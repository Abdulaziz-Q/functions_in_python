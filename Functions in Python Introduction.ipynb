{
 "cells": [
  {
   "cell_type": "markdown",
   "metadata": {},
   "source": [
    "# Functions in Python: Introduction\n",
    "\n",
    "### Contents\n",
    "<li><a href=\"#function\">Functions</a></li>\n",
    "<li><a href=\"#input_arg\">Input Arguments</a></li>\n",
    "<li><a href=\"#return_val\">Return Values</a></li>\n",
    "<li><a href=\"#key_arg\">Keywords Arguments</a></li>\n",
    "<li><a href=\"#def_arg\">Default Arguments</a></li>\n",
    "<li><a href=\"#var_len_arg\">Variable Length Arguments</a></li>"
   ]
  },
  {
   "cell_type": "markdown",
   "metadata": {},
   "source": [
    "<a id='function'></a>\n",
    "# Functions"
   ]
  },
  {
   "cell_type": "code",
   "execution_count": 2,
   "metadata": {},
   "outputs": [
    {
     "name": "stdout",
     "output_type": "stream",
     "text": [
      "My name is Abdulaziz\n",
      "I live in Riyadh\n",
      "I am a data analyst and I love what I do!\n"
     ]
    }
   ],
   "source": [
    "print('My name is Abdulaziz')\n",
    "print('I live in Riyadh')\n",
    "print('I am a data analyst and I love what I do!')"
   ]
  },
  {
   "cell_type": "code",
   "execution_count": 29,
   "metadata": {},
   "outputs": [],
   "source": [
    "# How to write a function\n",
    "# first, start with \"def\" and write the name of the fuction ending with \"():\"\n",
    "# second, write your code after 4 spaces or your code will not work\n",
    "def function_name():\n",
    "    #write your code here \n",
    "    print('The right way to create a function')"
   ]
  },
  {
   "cell_type": "code",
   "execution_count": 3,
   "metadata": {},
   "outputs": [],
   "source": [
    "# function to print \n",
    "def my_introduction():\n",
    "    print('My name is Abdulaziz')\n",
    "    print('I live in Riyadh')\n",
    "    print('I am a data analyst and I love what I do!')"
   ]
  },
  {
   "cell_type": "code",
   "execution_count": 8,
   "metadata": {},
   "outputs": [
    {
     "name": "stdout",
     "output_type": "stream",
     "text": [
      "My name is Abdulaziz\n",
      "I live in Riyadh\n",
      "I am a data analyst and I love what I do!\n"
     ]
    }
   ],
   "source": [
    "# the way to execute a function \n",
    "my_introduction()"
   ]
  },
  {
   "cell_type": "code",
   "execution_count": 10,
   "metadata": {},
   "outputs": [
    {
     "name": "stdout",
     "output_type": "stream",
     "text": [
      "This is outside the function\n"
     ]
    }
   ],
   "source": [
    "# hello_world function will not be executed, only the outside print will execute\n",
    "def hello_world():\n",
    "    print('Welcome to Paython')\n",
    "print('This is outside the function')    "
   ]
  },
  {
   "cell_type": "code",
   "execution_count": 11,
   "metadata": {},
   "outputs": [
    {
     "name": "stdout",
     "output_type": "stream",
     "text": [
      "Welcome to Paython\n"
     ]
    }
   ],
   "source": [
    "hello_world()"
   ]
  },
  {
   "cell_type": "code",
   "execution_count": 13,
   "metadata": {},
   "outputs": [
    {
     "ename": "NameError",
     "evalue": "name 'my_new_function' is not defined",
     "output_type": "error",
     "traceback": [
      "\u001b[1;31m---------------------------------------------------------------------------\u001b[0m",
      "\u001b[1;31mNameError\u001b[0m                                 Traceback (most recent call last)",
      "\u001b[1;32m<ipython-input-13-47dd35cc22f3>\u001b[0m in \u001b[0;36m<module>\u001b[1;34m\u001b[0m\n\u001b[0;32m      2\u001b[0m \u001b[1;31m# NameError: name 'my_new_function' is not defined\u001b[0m\u001b[1;33m\u001b[0m\u001b[1;33m\u001b[0m\u001b[1;33m\u001b[0m\u001b[0m\n\u001b[0;32m      3\u001b[0m \u001b[1;33m\u001b[0m\u001b[0m\n\u001b[1;32m----> 4\u001b[1;33m \u001b[0mmy_new_function\u001b[0m\u001b[1;33m(\u001b[0m\u001b[1;33m)\u001b[0m\u001b[1;33m\u001b[0m\u001b[1;33m\u001b[0m\u001b[0m\n\u001b[0m",
      "\u001b[1;31mNameError\u001b[0m: name 'my_new_function' is not defined"
     ]
    }
   ],
   "source": [
    "# functions not defined will make errors\n",
    "# NameError: name 'my_new_function' is not defined\n",
    "\n",
    "my_new_function()"
   ]
  },
  {
   "cell_type": "code",
   "execution_count": 15,
   "metadata": {},
   "outputs": [
    {
     "ename": "IndentationError",
     "evalue": "expected an indented block (<ipython-input-15-60c0c1dead2c>, line 4)",
     "output_type": "error",
     "traceback": [
      "\u001b[1;36m  File \u001b[1;32m\"<ipython-input-15-60c0c1dead2c>\"\u001b[1;36m, line \u001b[1;32m4\u001b[0m\n\u001b[1;33m    print('this identation is all wrong')\u001b[0m\n\u001b[1;37m        ^\u001b[0m\n\u001b[1;31mIndentationError\u001b[0m\u001b[1;31m:\u001b[0m expected an indented block\n"
     ]
    }
   ],
   "source": [
    "# wrong code to write a function\n",
    "# IndentationError: expected an indented block\n",
    "def will_not_work_function():\n",
    "print('This identation is all wrong')    "
   ]
  },
  {
   "cell_type": "code",
   "execution_count": 18,
   "metadata": {},
   "outputs": [],
   "source": [
    "def will_work_function():\n",
    "    print('This identation is all right')\n",
    "    # condition is right so the if statement will work\n",
    "    if 10 > 5:\n",
    "        print('Well 10 is greater than 5')"
   ]
  },
  {
   "cell_type": "code",
   "execution_count": 20,
   "metadata": {},
   "outputs": [
    {
     "name": "stdout",
     "output_type": "stream",
     "text": [
      "This identation is all right\n",
      "Well 10 is greater than 5\n"
     ]
    }
   ],
   "source": [
    "will_work_function()"
   ]
  },
  {
   "cell_type": "code",
   "execution_count": 23,
   "metadata": {},
   "outputs": [],
   "source": [
    "# for loop function\n",
    "def a_more_complicated_function():\n",
    "    for i in range(10):\n",
    "        print('i is now:',i)"
   ]
  },
  {
   "cell_type": "code",
   "execution_count": 24,
   "metadata": {},
   "outputs": [
    {
     "name": "stdout",
     "output_type": "stream",
     "text": [
      "i is now: 0\n",
      "i is now: 1\n",
      "i is now: 2\n",
      "i is now: 3\n",
      "i is now: 4\n",
      "i is now: 5\n",
      "i is now: 6\n",
      "i is now: 7\n",
      "i is now: 8\n",
      "i is now: 9\n"
     ]
    }
   ],
   "source": [
    "a_more_complicated_function()"
   ]
  },
  {
   "cell_type": "code",
   "execution_count": 25,
   "metadata": {},
   "outputs": [
    {
     "name": "stdout",
     "output_type": "stream",
     "text": [
      "This works!\n"
     ]
    }
   ],
   "source": [
    "def _Functions_Can_Be_NamedLikeThis_123():\n",
    "    print('This works!')\n",
    "\n",
    "_Functions_Can_Be_NamedLikeThis_123()"
   ]
  },
  {
   "cell_type": "code",
   "execution_count": 30,
   "metadata": {},
   "outputs": [
    {
     "ename": "SyntaxError",
     "evalue": "invalid syntax (<ipython-input-30-2c54b69ee67e>, line 3)",
     "output_type": "error",
     "traceback": [
      "\u001b[1;36m  File \u001b[1;32m\"<ipython-input-30-2c54b69ee67e>\"\u001b[1;36m, line \u001b[1;32m3\u001b[0m\n\u001b[1;33m    def 123this_does_not_work():\u001b[0m\n\u001b[1;37m          ^\u001b[0m\n\u001b[1;31mSyntaxError\u001b[0m\u001b[1;31m:\u001b[0m invalid syntax\n"
     ]
    }
   ],
   "source": [
    "# functions cannot started with numbers\n",
    "# SyntaxError: invalid syntax\n",
    "def 123this_does_not_work():\n",
    "    print('This does not work')"
   ]
  },
  {
   "cell_type": "code",
   "execution_count": 32,
   "metadata": {},
   "outputs": [],
   "source": [
    "# documnetation is very important with the function is complex\n",
    "# in this way you can right many lines\n",
    "def documented_function():\n",
    "    \"\"\"This function does something that is will documented\"\"\"\n",
    "    print('hello')"
   ]
  },
  {
   "cell_type": "code",
   "execution_count": 34,
   "metadata": {},
   "outputs": [
    {
     "data": {
      "text/plain": [
       "<function __main__.documented_function()>"
      ]
     },
     "execution_count": 34,
     "metadata": {},
     "output_type": "execute_result"
    }
   ],
   "source": [
    "# running a function without () will return metadata about the function\n",
    "## __main__ prefix that tell you this is a function\n",
    "documented_function"
   ]
  },
  {
   "cell_type": "code",
   "execution_count": 36,
   "metadata": {},
   "outputs": [
    {
     "data": {
      "text/plain": [
       "'This function does something that is will documented'"
      ]
     },
     "execution_count": 36,
     "metadata": {},
     "output_type": "execute_result"
    }
   ],
   "source": [
    "# __doc__ this attirbute allows you to see the documentation of the function\n",
    "documented_function.__doc__"
   ]
  },
  {
   "cell_type": "code",
   "execution_count": 37,
   "metadata": {},
   "outputs": [],
   "source": [
    "# functions are objects, which means you can assign functions to a variable\n",
    "another_function = documented_function"
   ]
  },
  {
   "cell_type": "code",
   "execution_count": 39,
   "metadata": {},
   "outputs": [
    {
     "data": {
      "text/plain": [
       "<function __main__.documented_function()>"
      ]
     },
     "execution_count": 39,
     "metadata": {},
     "output_type": "execute_result"
    }
   ],
   "source": [
    "# you can see here this variable has a referance from the original object (documented_function)\n",
    "another_function"
   ]
  },
  {
   "cell_type": "code",
   "execution_count": 41,
   "metadata": {},
   "outputs": [
    {
     "name": "stdout",
     "output_type": "stream",
     "text": [
      "hello\n"
     ]
    }
   ],
   "source": [
    "# you can use it as documented_function function\n",
    "another_function()"
   ]
  },
  {
   "cell_type": "code",
   "execution_count": 42,
   "metadata": {},
   "outputs": [
    {
     "name": "stdout",
     "output_type": "stream",
     "text": [
      "hello\n"
     ]
    }
   ],
   "source": [
    "documented_function()"
   ]
  },
  {
   "cell_type": "code",
   "execution_count": 50,
   "metadata": {},
   "outputs": [],
   "source": [
    "name = 'Abdulaziz'\n",
    "city = 'Riyadh'"
   ]
  },
  {
   "cell_type": "code",
   "execution_count": 45,
   "metadata": {},
   "outputs": [],
   "source": [
    "# variables defined outside a function can be used inside the function because the Global scope in python\n",
    "def introduction():\n",
    "    print('My name is: ',name)\n",
    "    print('I live in: ',city)"
   ]
  },
  {
   "cell_type": "code",
   "execution_count": 51,
   "metadata": {},
   "outputs": [
    {
     "name": "stdout",
     "output_type": "stream",
     "text": [
      "My name is:  Abdulaziz\n",
      "I live in:  Riyadh\n"
     ]
    }
   ],
   "source": [
    "introduction()"
   ]
  },
  {
   "cell_type": "code",
   "execution_count": 57,
   "metadata": {},
   "outputs": [],
   "source": [
    "# If you update variables, the functions will take the new updates\n",
    "name = 'Mohammed'\n",
    "city = 'Al Quwaiiyah'"
   ]
  },
  {
   "cell_type": "code",
   "execution_count": 58,
   "metadata": {},
   "outputs": [
    {
     "name": "stdout",
     "output_type": "stream",
     "text": [
      "My name is:  Mohammed\n",
      "I live in:  Al Quwaiiyah\n"
     ]
    }
   ],
   "source": [
    "introduction()"
   ]
  },
  {
   "cell_type": "code",
   "execution_count": 62,
   "metadata": {
    "scrolled": true
   },
   "outputs": [
    {
     "ename": "TypeError",
     "evalue": "can only concatenate str (not \"int\") to str",
     "output_type": "error",
     "traceback": [
      "\u001b[1;31m---------------------------------------------------------------------------\u001b[0m",
      "\u001b[1;31mTypeError\u001b[0m                                 Traceback (most recent call last)",
      "\u001b[1;32m<ipython-input-62-20c5c68a54f9>\u001b[0m in \u001b[0;36m<module>\u001b[1;34m\u001b[0m\n\u001b[0;32m      1\u001b[0m \u001b[1;31m# adding a string to an integer will result in an error\u001b[0m\u001b[1;33m\u001b[0m\u001b[1;33m\u001b[0m\u001b[1;33m\u001b[0m\u001b[0m\n\u001b[0;32m      2\u001b[0m \u001b[1;31m# TypeError: can only concatenate str (not \"int\") to str\u001b[0m\u001b[1;33m\u001b[0m\u001b[1;33m\u001b[0m\u001b[1;33m\u001b[0m\u001b[0m\n\u001b[1;32m----> 3\u001b[1;33m \u001b[1;34m'a'\u001b[0m \u001b[1;33m+\u001b[0m \u001b[1;36m2\u001b[0m\u001b[1;33m\u001b[0m\u001b[1;33m\u001b[0m\u001b[0m\n\u001b[0m",
      "\u001b[1;31mTypeError\u001b[0m: can only concatenate str (not \"int\") to str"
     ]
    }
   ],
   "source": [
    "# adding a string to an integer will result in an error\n",
    "# TypeError: can only concatenate str (not \"int\") to str\n",
    "'a' + 2"
   ]
  },
  {
   "cell_type": "code",
   "execution_count": 63,
   "metadata": {},
   "outputs": [
    {
     "data": {
      "text/plain": [
       "'ab'"
      ]
     },
     "execution_count": 63,
     "metadata": {},
     "output_type": "execute_result"
    }
   ],
   "source": [
    "# you can make operations in the same type \n",
    "'a' + 'b'"
   ]
  },
  {
   "cell_type": "code",
   "execution_count": 64,
   "metadata": {},
   "outputs": [
    {
     "data": {
      "text/plain": [
       "2"
      ]
     },
     "execution_count": 64,
     "metadata": {},
     "output_type": "execute_result"
    }
   ],
   "source": [
    "1 + 1"
   ]
  },
  {
   "cell_type": "markdown",
   "metadata": {},
   "source": [
    "<a id='input_arg'></a>\n",
    "# Input Arguments"
   ]
  },
  {
   "cell_type": "code",
   "execution_count": 71,
   "metadata": {},
   "outputs": [],
   "source": [
    "# this is a function with input argument \n",
    "def my_introduction_2(name):\n",
    "    print('My name is',name)"
   ]
  },
  {
   "cell_type": "code",
   "execution_count": 72,
   "metadata": {},
   "outputs": [
    {
     "name": "stdout",
     "output_type": "stream",
     "text": [
      "My name is Abdulaziz\n"
     ]
    }
   ],
   "source": [
    "# to execute my_introduction_2 function you must fill the argument inside parentheses\n",
    "my_introduction_2('Abdulaziz')"
   ]
  },
  {
   "cell_type": "code",
   "execution_count": 73,
   "metadata": {},
   "outputs": [],
   "source": [
    "# the same code above but with 2 input arguments\n",
    "def my_introduction_3(name,city):\n",
    "    print('My name is',name)\n",
    "    print('I live in',city )"
   ]
  },
  {
   "cell_type": "code",
   "execution_count": 75,
   "metadata": {},
   "outputs": [
    {
     "name": "stdout",
     "output_type": "stream",
     "text": [
      "My name is Abdulaziz\n",
      "I live in Riyadh\n"
     ]
    }
   ],
   "source": [
    "# be careful when input arguments, it must be in the same order\n",
    "my_introduction_3('Abdulaziz','Riyadh')"
   ]
  },
  {
   "cell_type": "code",
   "execution_count": 82,
   "metadata": {},
   "outputs": [
    {
     "ename": "TypeError",
     "evalue": "my_introduction() takes 0 positional arguments but 1 was given",
     "output_type": "error",
     "traceback": [
      "\u001b[1;31m---------------------------------------------------------------------------\u001b[0m",
      "\u001b[1;31mTypeError\u001b[0m                                 Traceback (most recent call last)",
      "\u001b[1;32m<ipython-input-82-0383d4cc6679>\u001b[0m in \u001b[0;36m<module>\u001b[1;34m\u001b[0m\n\u001b[0;32m      2\u001b[0m \u001b[1;31m#TypeError: my_introduction() takes 0 positional arguments but 1 was given\u001b[0m\u001b[1;33m\u001b[0m\u001b[1;33m\u001b[0m\u001b[1;33m\u001b[0m\u001b[0m\n\u001b[0;32m      3\u001b[0m \u001b[1;33m\u001b[0m\u001b[0m\n\u001b[1;32m----> 4\u001b[1;33m \u001b[0mmy_introduction\u001b[0m\u001b[1;33m(\u001b[0m\u001b[1;34m'Abdulaziz'\u001b[0m\u001b[1;33m)\u001b[0m\u001b[1;33m\u001b[0m\u001b[1;33m\u001b[0m\u001b[0m\n\u001b[0m",
      "\u001b[1;31mTypeError\u001b[0m: my_introduction() takes 0 positional arguments but 1 was given"
     ]
    }
   ],
   "source": [
    "# input argument in a function that does not have an argument will result in an error\n",
    "#TypeError: my_introduction() takes 0 positional arguments but 1 was given\n",
    "\n",
    "my_introduction('Abdulaziz')"
   ]
  },
  {
   "cell_type": "code",
   "execution_count": 83,
   "metadata": {},
   "outputs": [
    {
     "ename": "TypeError",
     "evalue": "my_introduction_2() takes 1 positional argument but 2 were given",
     "output_type": "error",
     "traceback": [
      "\u001b[1;31m---------------------------------------------------------------------------\u001b[0m",
      "\u001b[1;31mTypeError\u001b[0m                                 Traceback (most recent call last)",
      "\u001b[1;32m<ipython-input-83-93417a0fa301>\u001b[0m in \u001b[0;36m<module>\u001b[1;34m\u001b[0m\n\u001b[0;32m      2\u001b[0m \u001b[1;31m# TypeError: my_introduction_2() takes 1 positional argument but 2 were given\u001b[0m\u001b[1;33m\u001b[0m\u001b[1;33m\u001b[0m\u001b[1;33m\u001b[0m\u001b[0m\n\u001b[0;32m      3\u001b[0m \u001b[1;33m\u001b[0m\u001b[0m\n\u001b[1;32m----> 4\u001b[1;33m \u001b[0mmy_introduction_2\u001b[0m\u001b[1;33m(\u001b[0m\u001b[1;34m'Abdulaziz'\u001b[0m\u001b[1;33m,\u001b[0m\u001b[1;34m'Riyadh'\u001b[0m\u001b[1;33m)\u001b[0m\u001b[1;33m\u001b[0m\u001b[1;33m\u001b[0m\u001b[0m\n\u001b[0m",
      "\u001b[1;31mTypeError\u001b[0m: my_introduction_2() takes 1 positional argument but 2 were given"
     ]
    }
   ],
   "source": [
    "# the same when input more argument than the specified in the function \n",
    "# TypeError: my_introduction_2() takes 1 positional argument but 2 were given\n",
    "\n",
    "my_introduction_2('Abdulaziz','Riyadh')"
   ]
  },
  {
   "cell_type": "code",
   "execution_count": 1,
   "metadata": {},
   "outputs": [],
   "source": [
    "# function to square a number (integer or float)\n",
    "# multiplication does not work with string\n",
    "def square(x):\n",
    "    print('The square of',x,'is',x*x)"
   ]
  },
  {
   "cell_type": "code",
   "execution_count": 2,
   "metadata": {},
   "outputs": [
    {
     "name": "stdout",
     "output_type": "stream",
     "text": [
      "The square of 2 is 4\n"
     ]
    }
   ],
   "source": [
    "square(2)"
   ]
  },
  {
   "cell_type": "code",
   "execution_count": 3,
   "metadata": {},
   "outputs": [
    {
     "name": "stdout",
     "output_type": "stream",
     "text": [
      "The square of 2.2 is 4.840000000000001\n"
     ]
    }
   ],
   "source": [
    "square(2.2)"
   ]
  },
  {
   "cell_type": "code",
   "execution_count": 4,
   "metadata": {},
   "outputs": [
    {
     "ename": "TypeError",
     "evalue": "can't multiply sequence by non-int of type 'str'",
     "output_type": "error",
     "traceback": [
      "\u001b[1;31m---------------------------------------------------------------------------\u001b[0m",
      "\u001b[1;31mTypeError\u001b[0m                                 Traceback (most recent call last)",
      "\u001b[1;32m<ipython-input-4-38df5b7f393b>\u001b[0m in \u001b[0;36m<module>\u001b[1;34m\u001b[0m\n\u001b[1;32m----> 1\u001b[1;33m \u001b[0msquare\u001b[0m\u001b[1;33m(\u001b[0m\u001b[1;34m'Abdulaziz'\u001b[0m\u001b[1;33m)\u001b[0m\u001b[1;33m\u001b[0m\u001b[1;33m\u001b[0m\u001b[0m\n\u001b[0m",
      "\u001b[1;32m<ipython-input-1-3ac69ae09e30>\u001b[0m in \u001b[0;36msquare\u001b[1;34m(x)\u001b[0m\n\u001b[0;32m      1\u001b[0m \u001b[1;32mdef\u001b[0m \u001b[0msquare\u001b[0m\u001b[1;33m(\u001b[0m\u001b[0mx\u001b[0m\u001b[1;33m)\u001b[0m\u001b[1;33m:\u001b[0m\u001b[1;33m\u001b[0m\u001b[1;33m\u001b[0m\u001b[0m\n\u001b[1;32m----> 2\u001b[1;33m     \u001b[0mprint\u001b[0m\u001b[1;33m(\u001b[0m\u001b[1;34m'The square of'\u001b[0m\u001b[1;33m,\u001b[0m\u001b[0mx\u001b[0m\u001b[1;33m,\u001b[0m\u001b[1;34m'is'\u001b[0m\u001b[1;33m,\u001b[0m\u001b[0mx\u001b[0m\u001b[1;33m*\u001b[0m\u001b[0mx\u001b[0m\u001b[1;33m)\u001b[0m\u001b[1;33m\u001b[0m\u001b[1;33m\u001b[0m\u001b[0m\n\u001b[0m",
      "\u001b[1;31mTypeError\u001b[0m: can't multiply sequence by non-int of type 'str'"
     ]
    }
   ],
   "source": [
    "square('Abdulaziz')"
   ]
  },
  {
   "cell_type": "code",
   "execution_count": 5,
   "metadata": {},
   "outputs": [],
   "source": [
    "num = 25"
   ]
  },
  {
   "cell_type": "code",
   "execution_count": 7,
   "metadata": {},
   "outputs": [
    {
     "name": "stdout",
     "output_type": "stream",
     "text": [
      "The square of 25 is 625\n"
     ]
    }
   ],
   "source": [
    "# you can pass variables that had integer or float data type\n",
    "square(num)"
   ]
  },
  {
   "cell_type": "code",
   "execution_count": 10,
   "metadata": {},
   "outputs": [
    {
     "name": "stdout",
     "output_type": "stream",
     "text": [
      "The square of 25 is 625\n",
      "The square of 100 is 10000\n"
     ]
    }
   ],
   "source": [
    "# this call square function twice\n",
    "another_num = 100\n",
    "\n",
    "square(num)\n",
    "square(another_num)"
   ]
  },
  {
   "cell_type": "code",
   "execution_count": 11,
   "metadata": {},
   "outputs": [],
   "source": [
    "# This is an example of bad function\n",
    "salary = 3000\n",
    "expense = 900 \n",
    "\n",
    "def my_savings(a,b):\n",
    "    print('My total savings:', salary - expense)"
   ]
  },
  {
   "cell_type": "code",
   "execution_count": 12,
   "metadata": {},
   "outputs": [
    {
     "name": "stdout",
     "output_type": "stream",
     "text": [
      "My total savings: 2100\n"
     ]
    }
   ],
   "source": [
    "my_savings(3000,900)"
   ]
  },
  {
   "cell_type": "code",
   "execution_count": 13,
   "metadata": {},
   "outputs": [
    {
     "name": "stdout",
     "output_type": "stream",
     "text": [
      "My total savings: 2100\n"
     ]
    }
   ],
   "source": [
    "# why the answer not 500 ?\n",
    "# the problem is we assign salary and expense variables inside the function, let's correct the function next \n",
    "my_savings(1000,500)"
   ]
  },
  {
   "cell_type": "code",
   "execution_count": 16,
   "metadata": {},
   "outputs": [],
   "source": [
    "# the function should contain the arguments variables, not outside variables\n",
    "def my_actual_savings(a,b):\n",
    "    print('My total savings:', a - b)"
   ]
  },
  {
   "cell_type": "code",
   "execution_count": 17,
   "metadata": {},
   "outputs": [
    {
     "name": "stdout",
     "output_type": "stream",
     "text": [
      "My total savings: 500\n"
     ]
    }
   ],
   "source": [
    "my_actual_savings(1000,500)"
   ]
  },
  {
   "cell_type": "code",
   "execution_count": 18,
   "metadata": {},
   "outputs": [],
   "source": [
    "# note that when the arguments' names have the same variables names outside the function, the arguments' names will be used \n",
    "def calculate_savings(salary,expense):\n",
    "    print('My total savings:', salary - expense)"
   ]
  },
  {
   "cell_type": "code",
   "execution_count": 20,
   "metadata": {},
   "outputs": [
    {
     "ename": "TypeError",
     "evalue": "calculate_savings() missing 2 required positional arguments: 'salary' and 'expense'",
     "output_type": "error",
     "traceback": [
      "\u001b[1;31m---------------------------------------------------------------------------\u001b[0m",
      "\u001b[1;31mTypeError\u001b[0m                                 Traceback (most recent call last)",
      "\u001b[1;32m<ipython-input-20-b923a2a0d72c>\u001b[0m in \u001b[0;36m<module>\u001b[1;34m\u001b[0m\n\u001b[0;32m      1\u001b[0m \u001b[1;31m# here you can see, calculate_savings function did not use the salary and expense outside the function\u001b[0m\u001b[1;33m\u001b[0m\u001b[1;33m\u001b[0m\u001b[1;33m\u001b[0m\u001b[0m\n\u001b[1;32m----> 2\u001b[1;33m \u001b[0mcalculate_savings\u001b[0m\u001b[1;33m(\u001b[0m\u001b[1;33m)\u001b[0m\u001b[1;33m\u001b[0m\u001b[1;33m\u001b[0m\u001b[0m\n\u001b[0m",
      "\u001b[1;31mTypeError\u001b[0m: calculate_savings() missing 2 required positional arguments: 'salary' and 'expense'"
     ]
    }
   ],
   "source": [
    "# here you can see, calculate_savings function did not use the salary and expense outside the function \n",
    "calculate_savings()"
   ]
  },
  {
   "cell_type": "code",
   "execution_count": 22,
   "metadata": {},
   "outputs": [
    {
     "name": "stdout",
     "output_type": "stream",
     "text": [
      "My total savings: 2100\n"
     ]
    }
   ],
   "source": [
    "# do not be confused, this will use the global variables that specified before \n",
    "calculate_savings(salary,expense)"
   ]
  },
  {
   "cell_type": "code",
   "execution_count": 24,
   "metadata": {},
   "outputs": [
    {
     "name": "stdout",
     "output_type": "stream",
     "text": [
      "My total savings: 1000\n"
     ]
    }
   ],
   "source": [
    "# here it is the same my_actual_savings function but with different arguments names \n",
    "calculate_savings(2000,1000)"
   ]
  },
  {
   "cell_type": "code",
   "execution_count": 25,
   "metadata": {},
   "outputs": [],
   "source": [
    "# this function to print something for many times you specify \n",
    "def print_many_times(string, times):\n",
    "    for i in range(times):\n",
    "        print(string)   "
   ]
  },
  {
   "cell_type": "code",
   "execution_count": 27,
   "metadata": {},
   "outputs": [
    {
     "name": "stdout",
     "output_type": "stream",
     "text": [
      "I love Data Analysis\n",
      "I love Data Analysis\n",
      "I love Data Analysis\n"
     ]
    }
   ],
   "source": [
    "print_many_times('I love Data Analysis',3)"
   ]
  },
  {
   "cell_type": "code",
   "execution_count": 29,
   "metadata": {},
   "outputs": [
    {
     "ename": "TypeError",
     "evalue": "'str' object cannot be interpreted as an integer",
     "output_type": "error",
     "traceback": [
      "\u001b[1;31m---------------------------------------------------------------------------\u001b[0m",
      "\u001b[1;31mTypeError\u001b[0m                                 Traceback (most recent call last)",
      "\u001b[1;32m<ipython-input-29-cc683421738f>\u001b[0m in \u001b[0;36m<module>\u001b[1;34m\u001b[0m\n\u001b[0;32m      1\u001b[0m \u001b[1;31m# you will get an error if you input wrong data type\u001b[0m\u001b[1;33m\u001b[0m\u001b[1;33m\u001b[0m\u001b[1;33m\u001b[0m\u001b[0m\n\u001b[1;32m----> 2\u001b[1;33m \u001b[0mprint_many_times\u001b[0m\u001b[1;33m(\u001b[0m\u001b[1;36m3\u001b[0m\u001b[1;33m,\u001b[0m\u001b[1;34m'I love Data Analysis'\u001b[0m\u001b[1;33m)\u001b[0m\u001b[1;33m\u001b[0m\u001b[1;33m\u001b[0m\u001b[0m\n\u001b[0m",
      "\u001b[1;32m<ipython-input-25-cc4c57d1c0f0>\u001b[0m in \u001b[0;36mprint_many_times\u001b[1;34m(string, times)\u001b[0m\n\u001b[0;32m      1\u001b[0m \u001b[1;31m# this function to print something for many times you specify\u001b[0m\u001b[1;33m\u001b[0m\u001b[1;33m\u001b[0m\u001b[1;33m\u001b[0m\u001b[0m\n\u001b[0;32m      2\u001b[0m \u001b[1;32mdef\u001b[0m \u001b[0mprint_many_times\u001b[0m\u001b[1;33m(\u001b[0m\u001b[0mstring\u001b[0m\u001b[1;33m,\u001b[0m \u001b[0mtimes\u001b[0m\u001b[1;33m)\u001b[0m\u001b[1;33m:\u001b[0m\u001b[1;33m\u001b[0m\u001b[1;33m\u001b[0m\u001b[0m\n\u001b[1;32m----> 3\u001b[1;33m     \u001b[1;32mfor\u001b[0m \u001b[0mi\u001b[0m \u001b[1;32min\u001b[0m \u001b[0mrange\u001b[0m\u001b[1;33m(\u001b[0m\u001b[0mtimes\u001b[0m\u001b[1;33m)\u001b[0m\u001b[1;33m:\u001b[0m\u001b[1;33m\u001b[0m\u001b[1;33m\u001b[0m\u001b[0m\n\u001b[0m\u001b[0;32m      4\u001b[0m         \u001b[0mprint\u001b[0m\u001b[1;33m(\u001b[0m\u001b[0mstring\u001b[0m\u001b[1;33m)\u001b[0m\u001b[1;33m\u001b[0m\u001b[1;33m\u001b[0m\u001b[0m\n",
      "\u001b[1;31mTypeError\u001b[0m: 'str' object cannot be interpreted as an integer"
     ]
    }
   ],
   "source": [
    "# you will get an error if you input wrong data type \n",
    "print_many_times(3,'I love Data Analysis')"
   ]
  },
  {
   "cell_type": "code",
   "execution_count": 35,
   "metadata": {},
   "outputs": [],
   "source": [
    "# it is very recommended to write documentation to explain the function\n",
    "def print_many_times_with_doc(string, times):\n",
    "    \"\"\"\n",
    "    This function to print something for many times you specify \n",
    "    \n",
    "    First argument takes a string data type\n",
    "    Second argument takes an integer data type (float data type do not work)\n",
    "    \n",
    "    \"\"\"\n",
    "    for i in range(times):\n",
    "        print(string)   "
   ]
  },
  {
   "cell_type": "code",
   "execution_count": 36,
   "metadata": {},
   "outputs": [
    {
     "name": "stdout",
     "output_type": "stream",
     "text": [
      "I love Jupyter\n",
      "I love Jupyter\n",
      "I love Jupyter\n"
     ]
    }
   ],
   "source": [
    "print_many_times_with_doc('I love Jupyter',3)"
   ]
  },
  {
   "cell_type": "code",
   "execution_count": 37,
   "metadata": {},
   "outputs": [
    {
     "data": {
      "text/plain": [
       "'\\n    This function to print something for many times you specify \\n    \\n    First argument takes a string data type\\n    Second argument takes an integer data type (float data type do not work)\\n    \\n    '"
      ]
     },
     "execution_count": 37,
     "metadata": {},
     "output_type": "execute_result"
    }
   ],
   "source": [
    "# to read the documentation it is not good to read it this was\n",
    "print_many_times_with_doc.__doc__"
   ]
  },
  {
   "cell_type": "code",
   "execution_count": 38,
   "metadata": {},
   "outputs": [
    {
     "name": "stdout",
     "output_type": "stream",
     "text": [
      "\n",
      "    This function to print something for many times you specify \n",
      "    \n",
      "    First argument takes a string data type\n",
      "    Second argument takes an integer data type (float data type do not work)\n",
      "    \n",
      "    \n"
     ]
    }
   ],
   "source": [
    "# you should print the documentation\n",
    "print(print_many_times_with_doc.__doc__)"
   ]
  },
  {
   "cell_type": "code",
   "execution_count": 39,
   "metadata": {},
   "outputs": [],
   "source": [
    "# function to print higher number \n",
    "\n",
    "def print_higher_number(a,b):\n",
    "    if a > b:\n",
    "        print('Higher number is',a)\n",
    "    else:\n",
    "        print('Higher number is',b)\n",
    "        "
   ]
  },
  {
   "cell_type": "code",
   "execution_count": 40,
   "metadata": {},
   "outputs": [
    {
     "name": "stdout",
     "output_type": "stream",
     "text": [
      "Higher number is 10\n"
     ]
    }
   ],
   "source": [
    "print_higher_number(10,5)"
   ]
  },
  {
   "cell_type": "code",
   "execution_count": 43,
   "metadata": {},
   "outputs": [
    {
     "name": "stdout",
     "output_type": "stream",
     "text": [
      "Higher number is 7\n"
     ]
    }
   ],
   "source": [
    "print_higher_number(5,7)"
   ]
  },
  {
   "cell_type": "code",
   "execution_count": 44,
   "metadata": {},
   "outputs": [],
   "source": [
    "# function to print higher number with error\n",
    "\n",
    "def print_higher_number_with_error(a,b):\n",
    "    if a > b:\n",
    "        print('Higher number is',a)\n",
    "    else:\n",
    "        print('Higher number is',b)\n",
    "        \n",
    "        result = b + 'a'\n",
    "        "
   ]
  },
  {
   "cell_type": "code",
   "execution_count": 45,
   "metadata": {},
   "outputs": [
    {
     "name": "stdout",
     "output_type": "stream",
     "text": [
      "Higher number is 50\n"
     ]
    }
   ],
   "source": [
    "print_higher_number_with_error(50,20)"
   ]
  },
  {
   "cell_type": "code",
   "execution_count": 47,
   "metadata": {},
   "outputs": [
    {
     "name": "stdout",
     "output_type": "stream",
     "text": [
      "Higher number is 40\n"
     ]
    },
    {
     "ename": "TypeError",
     "evalue": "unsupported operand type(s) for +: 'int' and 'str'",
     "output_type": "error",
     "traceback": [
      "\u001b[1;31m---------------------------------------------------------------------------\u001b[0m",
      "\u001b[1;31mTypeError\u001b[0m                                 Traceback (most recent call last)",
      "\u001b[1;32m<ipython-input-47-03aa7b3c0f7b>\u001b[0m in \u001b[0;36m<module>\u001b[1;34m\u001b[0m\n\u001b[0;32m      1\u001b[0m \u001b[1;31m# testing your code parts\u001b[0m\u001b[1;33m\u001b[0m\u001b[1;33m\u001b[0m\u001b[1;33m\u001b[0m\u001b[0m\n\u001b[1;32m----> 2\u001b[1;33m \u001b[0mprint_higher_number_with_error\u001b[0m\u001b[1;33m(\u001b[0m\u001b[1;36m20\u001b[0m\u001b[1;33m,\u001b[0m\u001b[1;36m40\u001b[0m\u001b[1;33m)\u001b[0m\u001b[1;33m\u001b[0m\u001b[1;33m\u001b[0m\u001b[0m\n\u001b[0m",
      "\u001b[1;32m<ipython-input-44-55eba588f6cb>\u001b[0m in \u001b[0;36mprint_higher_number_with_error\u001b[1;34m(a, b)\u001b[0m\n\u001b[0;32m      7\u001b[0m         \u001b[0mprint\u001b[0m\u001b[1;33m(\u001b[0m\u001b[1;34m'Higher number is'\u001b[0m\u001b[1;33m,\u001b[0m\u001b[0mb\u001b[0m\u001b[1;33m)\u001b[0m\u001b[1;33m\u001b[0m\u001b[1;33m\u001b[0m\u001b[0m\n\u001b[0;32m      8\u001b[0m \u001b[1;33m\u001b[0m\u001b[0m\n\u001b[1;32m----> 9\u001b[1;33m         \u001b[0mresult\u001b[0m \u001b[1;33m=\u001b[0m \u001b[0mb\u001b[0m \u001b[1;33m+\u001b[0m \u001b[1;34m'a'\u001b[0m\u001b[1;33m\u001b[0m\u001b[1;33m\u001b[0m\u001b[0m\n\u001b[0m\u001b[0;32m     10\u001b[0m \u001b[1;33m\u001b[0m\u001b[0m\n",
      "\u001b[1;31mTypeError\u001b[0m: unsupported operand type(s) for +: 'int' and 'str'"
     ]
    }
   ],
   "source": [
    "# testing your code parts\n",
    "print_higher_number_with_error(20,40)"
   ]
  },
  {
   "cell_type": "code",
   "execution_count": 51,
   "metadata": {},
   "outputs": [],
   "source": [
    "# function that multiply 3 numbers\n",
    "def multiply(num_1, num_2, num_3):\n",
    "    print('Multiplication result:',num_1 * num_2 * num_3)"
   ]
  },
  {
   "cell_type": "code",
   "execution_count": 52,
   "metadata": {},
   "outputs": [
    {
     "name": "stdout",
     "output_type": "stream",
     "text": [
      "Multiplication result: 84.8\n"
     ]
    }
   ],
   "source": [
    "# in multiplication you can multiply integers with floats\n",
    "multiply(2,5.3,8)"
   ]
  },
  {
   "cell_type": "code",
   "execution_count": 54,
   "metadata": {},
   "outputs": [
    {
     "ename": "TypeError",
     "evalue": "multiply() takes 3 positional arguments but 4 were given",
     "output_type": "error",
     "traceback": [
      "\u001b[1;31m---------------------------------------------------------------------------\u001b[0m",
      "\u001b[1;31mTypeError\u001b[0m                                 Traceback (most recent call last)",
      "\u001b[1;32m<ipython-input-54-77eb29d9fff0>\u001b[0m in \u001b[0;36m<module>\u001b[1;34m\u001b[0m\n\u001b[0;32m      1\u001b[0m \u001b[1;31m# you can not pass 4 arguments because the function only specified 3 arguments\u001b[0m\u001b[1;33m\u001b[0m\u001b[1;33m\u001b[0m\u001b[1;33m\u001b[0m\u001b[0m\n\u001b[1;32m----> 2\u001b[1;33m \u001b[0mmultiply\u001b[0m\u001b[1;33m(\u001b[0m\u001b[1;36m2\u001b[0m\u001b[1;33m,\u001b[0m\u001b[1;36m5.3\u001b[0m\u001b[1;33m,\u001b[0m\u001b[1;36m7\u001b[0m\u001b[1;33m,\u001b[0m\u001b[1;36m20\u001b[0m\u001b[1;33m)\u001b[0m\u001b[1;33m\u001b[0m\u001b[1;33m\u001b[0m\u001b[0m\n\u001b[0m",
      "\u001b[1;31mTypeError\u001b[0m: multiply() takes 3 positional arguments but 4 were given"
     ]
    }
   ],
   "source": [
    "# you can not pass 4 arguments because the function only specified 3 arguments \n",
    "multiply(2,5.3,7,20)"
   ]
  },
  {
   "cell_type": "code",
   "execution_count": 56,
   "metadata": {},
   "outputs": [],
   "source": [
    "# function calculate the length of a list \n",
    "def length(some_list):\n",
    "    count = 0 \n",
    "    for element in some_list:\n",
    "        count += 1\n",
    "    \n",
    "    print('The length of the list is',count)"
   ]
  },
  {
   "cell_type": "code",
   "execution_count": 57,
   "metadata": {},
   "outputs": [
    {
     "name": "stdout",
     "output_type": "stream",
     "text": [
      "The length of the list is 7\n"
     ]
    }
   ],
   "source": [
    "num_list = [4,8,12,20,25,30,45]\n",
    "\n",
    "length(num_list)"
   ]
  },
  {
   "cell_type": "code",
   "execution_count": 25,
   "metadata": {},
   "outputs": [
    {
     "ename": "NameError",
     "evalue": "name 'length' is not defined",
     "output_type": "error",
     "traceback": [
      "\u001b[1;31m---------------------------------------------------------------------------\u001b[0m",
      "\u001b[1;31mNameError\u001b[0m                                 Traceback (most recent call last)",
      "\u001b[1;32m<ipython-input-25-9a4f4a29b3ad>\u001b[0m in \u001b[0;36m<module>\u001b[1;34m\u001b[0m\n\u001b[0;32m      1\u001b[0m \u001b[0mteams_list\u001b[0m \u001b[1;33m=\u001b[0m \u001b[1;33m[\u001b[0m\u001b[1;34m'Juventus'\u001b[0m\u001b[1;33m,\u001b[0m\u001b[1;34m'Milan'\u001b[0m\u001b[1;33m,\u001b[0m\u001b[1;34m'Napoli'\u001b[0m\u001b[1;33m,\u001b[0m\u001b[1;34m'Roma'\u001b[0m\u001b[1;33m]\u001b[0m\u001b[1;33m\u001b[0m\u001b[1;33m\u001b[0m\u001b[0m\n\u001b[0;32m      2\u001b[0m \u001b[1;33m\u001b[0m\u001b[0m\n\u001b[1;32m----> 3\u001b[1;33m \u001b[0mlength\u001b[0m\u001b[1;33m(\u001b[0m\u001b[0mteam_list\u001b[0m\u001b[1;33m)\u001b[0m\u001b[1;33m\u001b[0m\u001b[1;33m\u001b[0m\u001b[0m\n\u001b[0m",
      "\u001b[1;31mNameError\u001b[0m: name 'length' is not defined"
     ]
    }
   ],
   "source": [
    "teams_list = ['Juventus','Milan','Napoli','Roma']\n",
    "\n",
    "length(team_list)"
   ]
  },
  {
   "cell_type": "code",
   "execution_count": 61,
   "metadata": {},
   "outputs": [
    {
     "name": "stdout",
     "output_type": "stream",
     "text": [
      "The length of the list is 4\n"
     ]
    }
   ],
   "source": [
    "# you can specify the list in the argument \n",
    "\n",
    "length([5.2,8,16,7])"
   ]
  },
  {
   "cell_type": "code",
   "execution_count": 87,
   "metadata": {},
   "outputs": [
    {
     "data": {
      "text/plain": [
       "4"
      ]
     },
     "execution_count": 87,
     "metadata": {},
     "output_type": "execute_result"
    }
   ],
   "source": [
    "# len return only the number of the list \n",
    "num_teams = len(teams_list)\n",
    "\n",
    "num_teams"
   ]
  },
  {
   "cell_type": "code",
   "execution_count": 92,
   "metadata": {},
   "outputs": [
    {
     "name": "stdout",
     "output_type": "stream",
     "text": [
      "The length of the list is 4\n"
     ]
    }
   ],
   "source": [
    "# this return the function \n",
    "num_teams = length(teams_list)"
   ]
  },
  {
   "cell_type": "code",
   "execution_count": 93,
   "metadata": {},
   "outputs": [],
   "source": [
    "num_teams"
   ]
  },
  {
   "cell_type": "code",
   "execution_count": 86,
   "metadata": {},
   "outputs": [
    {
     "name": "stdout",
     "output_type": "stream",
     "text": [
      "None\n"
     ]
    }
   ],
   "source": [
    "# what happens? it returns nothing\n",
    "print(num_teams)"
   ]
  },
  {
   "cell_type": "markdown",
   "metadata": {},
   "source": [
    "<a id='return_val'></a>\n",
    "# Return Values"
   ]
  },
  {
   "cell_type": "code",
   "execution_count": 69,
   "metadata": {},
   "outputs": [],
   "source": [
    "def subtract(num_1, num_2):\n",
    "    \n",
    "    result = num_1 - num_2"
   ]
  },
  {
   "cell_type": "code",
   "execution_count": 70,
   "metadata": {},
   "outputs": [],
   "source": [
    "# nothing happend\n",
    "subtract(10, 7.7)"
   ]
  },
  {
   "cell_type": "code",
   "execution_count": 74,
   "metadata": {},
   "outputs": [],
   "source": [
    "# assign the function to variable and nothing happend \n",
    "r = subtract(100,50)"
   ]
  },
  {
   "cell_type": "code",
   "execution_count": 75,
   "metadata": {},
   "outputs": [
    {
     "name": "stdout",
     "output_type": "stream",
     "text": [
      "None\n"
     ]
    }
   ],
   "source": [
    "# None is a special value in Python that indicates no value or nothing\n",
    "print(r)"
   ]
  },
  {
   "cell_type": "code",
   "execution_count": 76,
   "metadata": {},
   "outputs": [
    {
     "data": {
      "text/plain": [
       "NoneType"
      ]
     },
     "execution_count": 76,
     "metadata": {},
     "output_type": "execute_result"
    }
   ],
   "source": [
    "# the problem is the function we had not to specify a return value \n",
    "# be default it rerutn none-type \n",
    "type(r)"
   ]
  },
  {
   "cell_type": "code",
   "execution_count": 78,
   "metadata": {},
   "outputs": [],
   "source": [
    "def subtract_returns_none_be_default(num_1, num_2):\n",
    "    \n",
    "    result = num_1 - num_2\n",
    "    # \"return\" is a keyword that return a value from a function \n",
    "    return None"
   ]
  },
  {
   "cell_type": "code",
   "execution_count": 80,
   "metadata": {},
   "outputs": [
    {
     "name": "stdout",
     "output_type": "stream",
     "text": [
      "None\n"
     ]
    }
   ],
   "source": [
    "r = subtract_returns_none_be_default(100,50)\n",
    "print(r)"
   ]
  },
  {
   "cell_type": "code",
   "execution_count": 81,
   "metadata": {},
   "outputs": [],
   "source": [
    "def subtract_return_a_result(num_1, num_2):\n",
    "    \n",
    "    result = num_1 - num_2\n",
    "    \n",
    "    return result"
   ]
  },
  {
   "cell_type": "code",
   "execution_count": 83,
   "metadata": {},
   "outputs": [
    {
     "name": "stdout",
     "output_type": "stream",
     "text": [
      "50\n"
     ]
    }
   ],
   "source": [
    "r = subtract_return_a_result(100,50)\n",
    "print(r)"
   ]
  },
  {
   "cell_type": "code",
   "execution_count": 88,
   "metadata": {},
   "outputs": [],
   "source": [
    "# function calculate the length of a list with return \n",
    "def length_with_return(some_list):\n",
    "    count = 0 \n",
    "    for element in some_list:\n",
    "        count += 1\n",
    "    \n",
    "    print('The length of the list is',count)\n",
    "    \n",
    "    return count"
   ]
  },
  {
   "cell_type": "code",
   "execution_count": 95,
   "metadata": {},
   "outputs": [
    {
     "name": "stdout",
     "output_type": "stream",
     "text": [
      "The length of the list is 4\n"
     ]
    }
   ],
   "source": [
    "num_teams = length_with_return(teams_list)"
   ]
  },
  {
   "cell_type": "code",
   "execution_count": 98,
   "metadata": {},
   "outputs": [
    {
     "data": {
      "text/plain": [
       "4"
      ]
     },
     "execution_count": 98,
     "metadata": {},
     "output_type": "execute_result"
    }
   ],
   "source": [
    "# now it works after we put return to our code\n",
    "num_teams"
   ]
  },
  {
   "cell_type": "code",
   "execution_count": 99,
   "metadata": {},
   "outputs": [
    {
     "name": "stdout",
     "output_type": "stream",
     "text": [
      "4\n"
     ]
    }
   ],
   "source": [
    "print(num_teams)"
   ]
  },
  {
   "cell_type": "code",
   "execution_count": 111,
   "metadata": {},
   "outputs": [],
   "source": [
    "# this function find the maximum number in a list \n",
    "def find_max_in_list(some_list):\n",
    "    # variable to hold the maximum element in the list starting from the first element in the list \"some_list[0]\"\n",
    "    max_element = some_list[0]\n",
    "    # specify the length of the list \n",
    "    length = len(some_list)\n",
    "    # for loop to the entire list to check every element in the list \n",
    "    for i in range(1,length):\n",
    "        # if statement to compare elements and hold the maximum element\n",
    "        if some_list[i] > max_element:\n",
    "            max_element = some_list[i]\n",
    "    \n",
    "    return max_element"
   ]
  },
  {
   "cell_type": "code",
   "execution_count": 112,
   "metadata": {},
   "outputs": [],
   "source": [
    "num_list_2 = [10,20,30,40,50,100]"
   ]
  },
  {
   "cell_type": "code",
   "execution_count": 113,
   "metadata": {},
   "outputs": [
    {
     "name": "stdout",
     "output_type": "stream",
     "text": [
      "100\n"
     ]
    }
   ],
   "source": [
    "max_element = find_max_in_list(num_list_2)\n",
    "\n",
    "print(max_element)"
   ]
  },
  {
   "cell_type": "code",
   "execution_count": 114,
   "metadata": {},
   "outputs": [],
   "source": [
    "num_list_2.append(1897)"
   ]
  },
  {
   "cell_type": "code",
   "execution_count": 115,
   "metadata": {},
   "outputs": [
    {
     "name": "stdout",
     "output_type": "stream",
     "text": [
      "1897\n"
     ]
    }
   ],
   "source": [
    "max_element = find_max_in_list(num_list_2)\n",
    "\n",
    "print(max_element)"
   ]
  },
  {
   "cell_type": "code",
   "execution_count": 116,
   "metadata": {},
   "outputs": [],
   "source": [
    "# if you do not specify anything in return it will returns none type \n",
    "def empty_return(x,y):\n",
    "    total = x + y\n",
    "    \n",
    "    return"
   ]
  },
  {
   "cell_type": "code",
   "execution_count": 118,
   "metadata": {},
   "outputs": [
    {
     "name": "stdout",
     "output_type": "stream",
     "text": [
      "None\n"
     ]
    }
   ],
   "source": [
    "print(empty_return(10,5))"
   ]
  },
  {
   "cell_type": "code",
   "execution_count": 119,
   "metadata": {},
   "outputs": [],
   "source": [
    "# we can return multiple values \n",
    "def add_sub(x,y):\n",
    "    \n",
    "    add_result = x+y\n",
    "    sub_result = x-y\n",
    "    \n",
    "    return add_result,sub_result"
   ]
  },
  {
   "cell_type": "code",
   "execution_count": 121,
   "metadata": {},
   "outputs": [
    {
     "data": {
      "text/plain": [
       "(9, 1)"
      ]
     },
     "execution_count": 121,
     "metadata": {},
     "output_type": "execute_result"
    }
   ],
   "source": [
    "add_sub(5,4)"
   ]
  },
  {
   "cell_type": "code",
   "execution_count": 126,
   "metadata": {},
   "outputs": [],
   "source": [
    "# python can assign results in different variables \n",
    "result_1 , result_2 = add_sub(5,4)"
   ]
  },
  {
   "cell_type": "code",
   "execution_count": 127,
   "metadata": {},
   "outputs": [
    {
     "data": {
      "text/plain": [
       "9"
      ]
     },
     "execution_count": 127,
     "metadata": {},
     "output_type": "execute_result"
    }
   ],
   "source": [
    "result_1"
   ]
  },
  {
   "cell_type": "code",
   "execution_count": 128,
   "metadata": {},
   "outputs": [
    {
     "data": {
      "text/plain": [
       "1"
      ]
     },
     "execution_count": 128,
     "metadata": {},
     "output_type": "execute_result"
    }
   ],
   "source": [
    "result_2"
   ]
  },
  {
   "cell_type": "code",
   "execution_count": 135,
   "metadata": {},
   "outputs": [],
   "source": [
    "# dash \"_\" indicates that it will ignore the second return from the function \n",
    "result_1 , _ = add_sub(10,8)"
   ]
  },
  {
   "cell_type": "code",
   "execution_count": 136,
   "metadata": {},
   "outputs": [
    {
     "data": {
      "text/plain": [
       "18"
      ]
     },
     "execution_count": 136,
     "metadata": {},
     "output_type": "execute_result"
    }
   ],
   "source": [
    "result_1"
   ]
  },
  {
   "cell_type": "code",
   "execution_count": 140,
   "metadata": {},
   "outputs": [],
   "source": [
    "# dash \"_\" indicates that it will ignore the first return from the function \n",
    "_ , result_2 = add_sub(10,8)"
   ]
  },
  {
   "cell_type": "code",
   "execution_count": 141,
   "metadata": {},
   "outputs": [
    {
     "data": {
      "text/plain": [
       "2"
      ]
     },
     "execution_count": 141,
     "metadata": {},
     "output_type": "execute_result"
    }
   ],
   "source": [
    "result_2"
   ]
  },
  {
   "cell_type": "code",
   "execution_count": 142,
   "metadata": {},
   "outputs": [],
   "source": [
    "def positive_or_negative(num):\n",
    "    \n",
    "    if num > 0 :\n",
    "        return 'Positive!'\n",
    "    else:\n",
    "        return 'Zero or negative!'"
   ]
  },
  {
   "cell_type": "code",
   "execution_count": 143,
   "metadata": {},
   "outputs": [
    {
     "data": {
      "text/plain": [
       "'Positive!'"
      ]
     },
     "execution_count": 143,
     "metadata": {},
     "output_type": "execute_result"
    }
   ],
   "source": [
    "positive_or_negative(10)"
   ]
  },
  {
   "cell_type": "code",
   "execution_count": 144,
   "metadata": {},
   "outputs": [
    {
     "data": {
      "text/plain": [
       "'Zero or negative!'"
      ]
     },
     "execution_count": 144,
     "metadata": {},
     "output_type": "execute_result"
    }
   ],
   "source": [
    "positive_or_negative(-10)"
   ]
  },
  {
   "cell_type": "code",
   "execution_count": 145,
   "metadata": {},
   "outputs": [],
   "source": [
    "def positive_negative_zero(num):\n",
    "    \n",
    "    if num > 0 :\n",
    "        return 'Positive!'\n",
    "    elif num < 0:\n",
    "        return 'Negative!'\n",
    "    else: \n",
    "        return 'Zero'"
   ]
  },
  {
   "cell_type": "code",
   "execution_count": 147,
   "metadata": {},
   "outputs": [
    {
     "data": {
      "text/plain": [
       "'Positive!'"
      ]
     },
     "execution_count": 147,
     "metadata": {},
     "output_type": "execute_result"
    }
   ],
   "source": [
    "positive_negative_zero(7)"
   ]
  },
  {
   "cell_type": "code",
   "execution_count": 148,
   "metadata": {},
   "outputs": [
    {
     "data": {
      "text/plain": [
       "'Negative!'"
      ]
     },
     "execution_count": 148,
     "metadata": {},
     "output_type": "execute_result"
    }
   ],
   "source": [
    "positive_negative_zero(-7)"
   ]
  },
  {
   "cell_type": "code",
   "execution_count": 149,
   "metadata": {},
   "outputs": [
    {
     "data": {
      "text/plain": [
       "'Zero'"
      ]
     },
     "execution_count": 149,
     "metadata": {},
     "output_type": "execute_result"
    }
   ],
   "source": [
    "positive_negative_zero(0)"
   ]
  },
  {
   "cell_type": "code",
   "execution_count": 150,
   "metadata": {},
   "outputs": [],
   "source": [
    "def positive_negative_zero_forgotreturn(num):\n",
    "    \n",
    "    if num > 0 :\n",
    "        return 'Positive!'\n",
    "    elif num < 0:\n",
    "        return 'Negative!'\n",
    "    "
   ]
  },
  {
   "cell_type": "code",
   "execution_count": 152,
   "metadata": {},
   "outputs": [],
   "source": [
    "# this return none type \n",
    "# be careful\n",
    "positive_negative_zero_forgotreturn(0)"
   ]
  },
  {
   "cell_type": "code",
   "execution_count": 154,
   "metadata": {},
   "outputs": [
    {
     "ename": "IndexError",
     "evalue": "list index out of range",
     "output_type": "error",
     "traceback": [
      "\u001b[1;31m---------------------------------------------------------------------------\u001b[0m",
      "\u001b[1;31mIndexError\u001b[0m                                Traceback (most recent call last)",
      "\u001b[1;32m<ipython-input-154-a9ca619792c8>\u001b[0m in \u001b[0;36m<module>\u001b[1;34m\u001b[0m\n\u001b[0;32m      2\u001b[0m \u001b[0mempty_list\u001b[0m \u001b[1;33m=\u001b[0m \u001b[1;33m[\u001b[0m\u001b[1;33m]\u001b[0m\u001b[1;33m\u001b[0m\u001b[1;33m\u001b[0m\u001b[0m\n\u001b[0;32m      3\u001b[0m \u001b[1;33m\u001b[0m\u001b[0m\n\u001b[1;32m----> 4\u001b[1;33m \u001b[0mfind_max_in_list\u001b[0m\u001b[1;33m(\u001b[0m\u001b[0mempty_list\u001b[0m\u001b[1;33m)\u001b[0m\u001b[1;33m\u001b[0m\u001b[1;33m\u001b[0m\u001b[0m\n\u001b[0m",
      "\u001b[1;32m<ipython-input-111-f6edf39554ff>\u001b[0m in \u001b[0;36mfind_max_in_list\u001b[1;34m(some_list)\u001b[0m\n\u001b[0;32m      2\u001b[0m \u001b[1;32mdef\u001b[0m \u001b[0mfind_max_in_list\u001b[0m\u001b[1;33m(\u001b[0m\u001b[0msome_list\u001b[0m\u001b[1;33m)\u001b[0m\u001b[1;33m:\u001b[0m\u001b[1;33m\u001b[0m\u001b[1;33m\u001b[0m\u001b[0m\n\u001b[0;32m      3\u001b[0m     \u001b[1;31m# variable to hold the maximum element in the list starting from the first element in the list \"some_list[0]\"\u001b[0m\u001b[1;33m\u001b[0m\u001b[1;33m\u001b[0m\u001b[1;33m\u001b[0m\u001b[0m\n\u001b[1;32m----> 4\u001b[1;33m     \u001b[0mmax_element\u001b[0m \u001b[1;33m=\u001b[0m \u001b[0msome_list\u001b[0m\u001b[1;33m[\u001b[0m\u001b[1;36m0\u001b[0m\u001b[1;33m]\u001b[0m\u001b[1;33m\u001b[0m\u001b[1;33m\u001b[0m\u001b[0m\n\u001b[0m\u001b[0;32m      5\u001b[0m     \u001b[1;31m# specify the length of the list\u001b[0m\u001b[1;33m\u001b[0m\u001b[1;33m\u001b[0m\u001b[1;33m\u001b[0m\u001b[0m\n\u001b[0;32m      6\u001b[0m     \u001b[0mlength\u001b[0m \u001b[1;33m=\u001b[0m \u001b[0mlen\u001b[0m\u001b[1;33m(\u001b[0m\u001b[0msome_list\u001b[0m\u001b[1;33m)\u001b[0m\u001b[1;33m\u001b[0m\u001b[1;33m\u001b[0m\u001b[0m\n",
      "\u001b[1;31mIndexError\u001b[0m: list index out of range"
     ]
    }
   ],
   "source": [
    "# in our code above we specified that the function must have one item in the list \n",
    "empty_list = []\n",
    "\n",
    "find_max_in_list(empty_list)"
   ]
  },
  {
   "cell_type": "code",
   "execution_count": 155,
   "metadata": {},
   "outputs": [],
   "source": [
    "#, in this case, we can return none type from the beginning before executing the entire code \n",
    "def find_max_in_list(some_list):\n",
    "    \n",
    "    if len(some_list) == 0:\n",
    "        print('Zero element list!')\n",
    "        \n",
    "        return None\n",
    "   \n",
    "    max_element = some_list[0]\n",
    "   \n",
    "    length = len(some_list)\n",
    "\n",
    "    for i in range(1,length):\n",
    "\n",
    "        if some_list[i] > max_element:\n",
    "            max_element = some_list[i]\n",
    "    \n",
    "    return max_element"
   ]
  },
  {
   "cell_type": "code",
   "execution_count": 156,
   "metadata": {},
   "outputs": [
    {
     "name": "stdout",
     "output_type": "stream",
     "text": [
      "Zero element list!\n"
     ]
    }
   ],
   "source": [
    "find_max_in_list(empty_list)"
   ]
  },
  {
   "cell_type": "code",
   "execution_count": 160,
   "metadata": {},
   "outputs": [],
   "source": [
    "def find_first_capital_letter(some_string):\n",
    "    \n",
    "    capital_letter = None\n",
    "    \n",
    "    for ch in some_string:\n",
    "        if ch.upper() == ch and ch != \" \":\n",
    "            capital_letter = ch\n",
    "            break \n",
    "    \n",
    "    if capital_letter is None: \n",
    "        return 'No capital letters found'\n",
    "    else: \n",
    "        return 'First capital letter ' + capital_letter"
   ]
  },
  {
   "cell_type": "code",
   "execution_count": 163,
   "metadata": {},
   "outputs": [
    {
     "data": {
      "text/plain": [
       "'First capital letter A'"
      ]
     },
     "execution_count": 163,
     "metadata": {},
     "output_type": "execute_result"
    }
   ],
   "source": [
    "find_first_capital_letter('how Are you')"
   ]
  },
  {
   "cell_type": "code",
   "execution_count": 164,
   "metadata": {},
   "outputs": [
    {
     "data": {
      "text/plain": [
       "'No capital letters found'"
      ]
     },
     "execution_count": 164,
     "metadata": {},
     "output_type": "execute_result"
    }
   ],
   "source": [
    "find_first_capital_letter('how are you')"
   ]
  },
  {
   "cell_type": "code",
   "execution_count": 165,
   "metadata": {},
   "outputs": [],
   "source": [
    "def create_dictionary_representation(name, age, occupation):\n",
    "    \n",
    "    dictionary = {\n",
    "        'name': name,\n",
    "        'age': age,\n",
    "        'occupation': occupation\n",
    "    }\n",
    "    \n",
    "    return dictionary"
   ]
  },
  {
   "cell_type": "code",
   "execution_count": 166,
   "metadata": {},
   "outputs": [],
   "source": [
    "info_dictionary = create_dictionary_representation('Abdulaziz',27,'Data Analyst')"
   ]
  },
  {
   "cell_type": "code",
   "execution_count": 169,
   "metadata": {},
   "outputs": [
    {
     "data": {
      "text/plain": [
       "{'name': 'Abdulaziz', 'age': 27, 'occupation': 'Data Analyst'}"
      ]
     },
     "execution_count": 169,
     "metadata": {},
     "output_type": "execute_result"
    }
   ],
   "source": [
    "info_dictionary"
   ]
  },
  {
   "cell_type": "code",
   "execution_count": 170,
   "metadata": {},
   "outputs": [],
   "source": [
    "def generate_list(name,num_elements):\n",
    "    \n",
    "    return_list = []\n",
    "    \n",
    "    for i in range(num_elements):\n",
    "        return_list.append(name)\n",
    "        \n",
    "    return return_list"
   ]
  },
  {
   "cell_type": "code",
   "execution_count": 173,
   "metadata": {},
   "outputs": [],
   "source": [
    "some_list = generate_list('Abdulaziz',4)"
   ]
  },
  {
   "cell_type": "code",
   "execution_count": 174,
   "metadata": {},
   "outputs": [
    {
     "data": {
      "text/plain": [
       "['Abdulaziz', 'Abdulaziz', 'Abdulaziz', 'Abdulaziz']"
      ]
     },
     "execution_count": 174,
     "metadata": {},
     "output_type": "execute_result"
    }
   ],
   "source": [
    "some_list"
   ]
  },
  {
   "cell_type": "code",
   "execution_count": 175,
   "metadata": {},
   "outputs": [],
   "source": [
    "def generate_list(name,num_elements):\n",
    "    \n",
    "    print('Generate list using list comprehension')\n",
    "    return_list = [name for i in range(num_elements)]\n",
    "         \n",
    "    return return_list"
   ]
  },
  {
   "cell_type": "code",
   "execution_count": 177,
   "metadata": {},
   "outputs": [
    {
     "name": "stdout",
     "output_type": "stream",
     "text": [
      "Generate list using list comprehension\n"
     ]
    },
    {
     "data": {
      "text/plain": [
       "['Data', 'Data', 'Data']"
      ]
     },
     "execution_count": 177,
     "metadata": {},
     "output_type": "execute_result"
    }
   ],
   "source": [
    "some_list = generate_list('Data',3)\n",
    "\n",
    "some_list"
   ]
  },
  {
   "cell_type": "code",
   "execution_count": 179,
   "metadata": {},
   "outputs": [],
   "source": [
    "def generate_list(name,num_elements):\n",
    "    # this work even we did ot assign to a variable \n",
    "    return [name for i in range(num_elements)]\n",
    "         "
   ]
  },
  {
   "cell_type": "code",
   "execution_count": 181,
   "metadata": {},
   "outputs": [
    {
     "data": {
      "text/plain": [
       "['Moonlight', 'Moonlight', 'Moonlight', 'Moonlight']"
      ]
     },
     "execution_count": 181,
     "metadata": {},
     "output_type": "execute_result"
    }
   ],
   "source": [
    "some_list = generate_list('Moonlight',4)\n",
    "\n",
    "some_list"
   ]
  },
  {
   "cell_type": "code",
   "execution_count": 182,
   "metadata": {},
   "outputs": [],
   "source": [
    "def add(a,b):\n",
    "    return a+b\n",
    "\n",
    "def sub(a,b):\n",
    "    return a-b\n",
    "\n",
    "def mul(a,b):\n",
    "    return a*b\n",
    "\n",
    "def div(a,b):\n",
    "    return a/b"
   ]
  },
  {
   "cell_type": "code",
   "execution_count": 183,
   "metadata": {},
   "outputs": [],
   "source": [
    "def calculate(a, b, operator):\n",
    "    \n",
    "    if operator == 'add':\n",
    "        return add(a,b) \n",
    "    \n",
    "    if operator == 'sub':\n",
    "        return sub(a,b) \n",
    "    \n",
    "    if operator == 'mul':\n",
    "        return mul(a,b) \n",
    "    \n",
    "    if operator == 'div':\n",
    "        return div(a,b) "
   ]
  },
  {
   "cell_type": "code",
   "execution_count": 184,
   "metadata": {},
   "outputs": [
    {
     "data": {
      "text/plain": [
       "15"
      ]
     },
     "execution_count": 184,
     "metadata": {},
     "output_type": "execute_result"
    }
   ],
   "source": [
    "calculate(10,5,'add')"
   ]
  },
  {
   "cell_type": "code",
   "execution_count": 185,
   "metadata": {},
   "outputs": [
    {
     "data": {
      "text/plain": [
       "50"
      ]
     },
     "execution_count": 185,
     "metadata": {},
     "output_type": "execute_result"
    }
   ],
   "source": [
    "calculate(10,5,'mul')"
   ]
  },
  {
   "cell_type": "code",
   "execution_count": 187,
   "metadata": {},
   "outputs": [
    {
     "data": {
      "text/plain": [
       "2.0"
      ]
     },
     "execution_count": 187,
     "metadata": {},
     "output_type": "execute_result"
    }
   ],
   "source": [
    "calculate(10,5,'div')"
   ]
  },
  {
   "cell_type": "markdown",
   "metadata": {},
   "source": [
    "<a id='key_arg'></a>\n",
    "# Keywords Arguments"
   ]
  },
  {
   "cell_type": "code",
   "execution_count": 191,
   "metadata": {},
   "outputs": [],
   "source": [
    "def total_score(math,database,network,programming):\n",
    "    \n",
    "    print('Math:',math,'Database:',database,'Network:',network,'Programming:',programming)\n",
    "    return math + database + network + programming"
   ]
  },
  {
   "cell_type": "code",
   "execution_count": 195,
   "metadata": {},
   "outputs": [
    {
     "name": "stdout",
     "output_type": "stream",
     "text": [
      "Math: 95 Database: 85 Network: 85 Programming: 95\n"
     ]
    },
    {
     "data": {
      "text/plain": [
       "360"
      ]
     },
     "execution_count": 195,
     "metadata": {},
     "output_type": "execute_result"
    }
   ],
   "source": [
    "total_score(95,85,85,95)"
   ]
  },
  {
   "cell_type": "code",
   "execution_count": 196,
   "metadata": {},
   "outputs": [
    {
     "name": "stdout",
     "output_type": "stream",
     "text": [
      "Math: 95 Database: 85 Network: 85 Programming: 95\n"
     ]
    },
    {
     "data": {
      "text/plain": [
       "360"
      ]
     },
     "execution_count": 196,
     "metadata": {},
     "output_type": "execute_result"
    }
   ],
   "source": [
    "# keyword arguments allow you to specify input arguments by name while invoking function\n",
    "\n",
    "total_score(math=95,database=85,network=85,programming=95)"
   ]
  },
  {
   "cell_type": "code",
   "execution_count": 198,
   "metadata": {},
   "outputs": [
    {
     "ename": "TypeError",
     "evalue": "total_score() got an unexpected keyword argument 'program'",
     "output_type": "error",
     "traceback": [
      "\u001b[1;31m---------------------------------------------------------------------------\u001b[0m",
      "\u001b[1;31mTypeError\u001b[0m                                 Traceback (most recent call last)",
      "\u001b[1;32m<ipython-input-198-9cfdfd7ada14>\u001b[0m in \u001b[0;36m<module>\u001b[1;34m\u001b[0m\n\u001b[0;32m      1\u001b[0m \u001b[1;31m# you can not put any arguments name, you must use arguments names of the function\u001b[0m\u001b[1;33m\u001b[0m\u001b[1;33m\u001b[0m\u001b[1;33m\u001b[0m\u001b[0m\n\u001b[1;32m----> 2\u001b[1;33m \u001b[0mtotal_score\u001b[0m\u001b[1;33m(\u001b[0m\u001b[0mmath\u001b[0m\u001b[1;33m=\u001b[0m\u001b[1;36m95\u001b[0m\u001b[1;33m,\u001b[0m\u001b[0mdatabase\u001b[0m\u001b[1;33m=\u001b[0m\u001b[1;36m85\u001b[0m\u001b[1;33m,\u001b[0m\u001b[0mnetwork\u001b[0m\u001b[1;33m=\u001b[0m\u001b[1;36m85\u001b[0m\u001b[1;33m,\u001b[0m\u001b[0mprogram\u001b[0m\u001b[1;33m=\u001b[0m\u001b[1;36m95\u001b[0m\u001b[1;33m)\u001b[0m\u001b[1;33m\u001b[0m\u001b[1;33m\u001b[0m\u001b[0m\n\u001b[0m",
      "\u001b[1;31mTypeError\u001b[0m: total_score() got an unexpected keyword argument 'program'"
     ]
    }
   ],
   "source": [
    "# you can not put any arguments name, you must use arguments names of the function\n",
    "total_score(math=95,database=85,network=85,program=95)"
   ]
  },
  {
   "cell_type": "code",
   "execution_count": 202,
   "metadata": {},
   "outputs": [
    {
     "name": "stdout",
     "output_type": "stream",
     "text": [
      "Math: 95 Database: 85 Network: 85 Programming: 95\n"
     ]
    },
    {
     "data": {
      "text/plain": [
       "360"
      ]
     },
     "execution_count": 202,
     "metadata": {},
     "output_type": "execute_result"
    }
   ],
   "source": [
    "# python knows the positions of the arguments even if you did not specify them\n",
    "# but you must have start with postional argument then keyword argument\n",
    "total_score(95,85,network=85,programming=95)"
   ]
  },
  {
   "cell_type": "code",
   "execution_count": 203,
   "metadata": {},
   "outputs": [
    {
     "ename": "SyntaxError",
     "evalue": "positional argument follows keyword argument (<ipython-input-203-281e42b1074d>, line 3)",
     "output_type": "error",
     "traceback": [
      "\u001b[1;36m  File \u001b[1;32m\"<ipython-input-203-281e42b1074d>\"\u001b[1;36m, line \u001b[1;32m3\u001b[0m\n\u001b[1;33m    total_score(math=95,85,network=85,programming=95)\u001b[0m\n\u001b[1;37m                       ^\u001b[0m\n\u001b[1;31mSyntaxError\u001b[0m\u001b[1;31m:\u001b[0m positional argument follows keyword argument\n"
     ]
    }
   ],
   "source": [
    "# python does not understand starting with keyword argument follows positional argument  \n",
    "# it must be started with positional argument then followed by keyword argument\n",
    "total_score(math=95,85,network=85,programming=95)"
   ]
  },
  {
   "cell_type": "code",
   "execution_count": 205,
   "metadata": {},
   "outputs": [
    {
     "name": "stdout",
     "output_type": "stream",
     "text": [
      "Math: 95 Database: 85 Network: 85 Programming: 95\n"
     ]
    },
    {
     "data": {
      "text/plain": [
       "360"
      ]
     },
     "execution_count": 205,
     "metadata": {},
     "output_type": "execute_result"
    }
   ],
   "source": [
    "# you can change the positions with keyword arguments\n",
    "total_score(programming=95,database=85,network=85,math=95)"
   ]
  },
  {
   "cell_type": "code",
   "execution_count": 207,
   "metadata": {},
   "outputs": [
    {
     "ename": "TypeError",
     "evalue": "total_score() got multiple values for argument 'math'",
     "output_type": "error",
     "traceback": [
      "\u001b[1;31m---------------------------------------------------------------------------\u001b[0m",
      "\u001b[1;31mTypeError\u001b[0m                                 Traceback (most recent call last)",
      "\u001b[1;32m<ipython-input-207-b438f1ae3bcb>\u001b[0m in \u001b[0;36m<module>\u001b[1;34m\u001b[0m\n\u001b[0;32m      1\u001b[0m \u001b[1;31m# in this case, there are multiple values for argument 'math'\u001b[0m\u001b[1;33m\u001b[0m\u001b[1;33m\u001b[0m\u001b[1;33m\u001b[0m\u001b[0m\n\u001b[1;32m----> 2\u001b[1;33m \u001b[0mtotal_score\u001b[0m\u001b[1;33m(\u001b[0m\u001b[1;36m95\u001b[0m\u001b[1;33m,\u001b[0m\u001b[0mdatabase\u001b[0m\u001b[1;33m=\u001b[0m\u001b[1;36m85\u001b[0m\u001b[1;33m,\u001b[0m\u001b[0mnetwork\u001b[0m\u001b[1;33m=\u001b[0m\u001b[1;36m85\u001b[0m\u001b[1;33m,\u001b[0m\u001b[0mmath\u001b[0m\u001b[1;33m=\u001b[0m\u001b[1;36m95\u001b[0m\u001b[1;33m)\u001b[0m\u001b[1;33m\u001b[0m\u001b[1;33m\u001b[0m\u001b[0m\n\u001b[0m",
      "\u001b[1;31mTypeError\u001b[0m: total_score() got multiple values for argument 'math'"
     ]
    }
   ],
   "source": [
    "# in this case, there are multiple values for argument 'math'\n",
    "total_score(95,database=85,network=85,math=95)"
   ]
  },
  {
   "cell_type": "code",
   "execution_count": 209,
   "metadata": {},
   "outputs": [
    {
     "ename": "SyntaxError",
     "evalue": "keyword argument repeated (<ipython-input-209-28662af26e67>, line 2)",
     "output_type": "error",
     "traceback": [
      "\u001b[1;36m  File \u001b[1;32m\"<ipython-input-209-28662af26e67>\"\u001b[1;36m, line \u001b[1;32m2\u001b[0m\n\u001b[1;33m    total_score(math=95,database=85,network=85,math=95)\u001b[0m\n\u001b[1;37m                                              ^\u001b[0m\n\u001b[1;31mSyntaxError\u001b[0m\u001b[1;31m:\u001b[0m keyword argument repeated\n"
     ]
    }
   ],
   "source": [
    "# in this case, keyword argument repeated\n",
    "total_score(math=95,database=85,network=85,math=95)"
   ]
  },
  {
   "cell_type": "code",
   "execution_count": 213,
   "metadata": {},
   "outputs": [],
   "source": [
    "def print_student_detail(name,university,math,database,network,programming):\n",
    "    \n",
    "    total = math + database + network + programming\n",
    "    \n",
    "    print('Name:',name)\n",
    "    print('University:',university)\n",
    "    print('Score:',total)"
   ]
  },
  {
   "cell_type": "code",
   "execution_count": 212,
   "metadata": {},
   "outputs": [
    {
     "name": "stdout",
     "output_type": "stream",
     "text": [
      "Name:  Abdulaziz\n",
      "University:  SEU\n",
      "Score:  360\n"
     ]
    }
   ],
   "source": [
    "print_student_detail('Abdulaziz','SEU',\n",
    "                    math=95,database=85,network=85,programming=95)"
   ]
  },
  {
   "cell_type": "code",
   "execution_count": 214,
   "metadata": {},
   "outputs": [
    {
     "name": "stdout",
     "output_type": "stream",
     "text": [
      "Name: SEU\n",
      "University: Abdulaziz\n",
      "Score: 360\n"
     ]
    }
   ],
   "source": [
    "print_student_detail('SEU','Abdulaziz',\n",
    "                    math=95,database=85,network=85,programming=95)"
   ]
  },
  {
   "cell_type": "code",
   "execution_count": 216,
   "metadata": {},
   "outputs": [
    {
     "name": "stdout",
     "output_type": "stream",
     "text": [
      "Name: Abdulaziz\n",
      "University: SEU\n",
      "Score: 360\n"
     ]
    }
   ],
   "source": [
    "print_student_detail(university='SEU',name='Abdulaziz',\n",
    "                    math=95,database=85,network=85,programming=95)"
   ]
  },
  {
   "cell_type": "code",
   "execution_count": 221,
   "metadata": {},
   "outputs": [
    {
     "data": {
      "text/plain": [
       "[4, 8, 12, 20, 25, 30, 45]"
      ]
     },
     "execution_count": 221,
     "metadata": {},
     "output_type": "execute_result"
    }
   ],
   "source": [
    "# sorted function is used to sort a list \n",
    "sorted(num_list)"
   ]
  },
  {
   "cell_type": "code",
   "execution_count": 222,
   "metadata": {},
   "outputs": [
    {
     "data": {
      "text/plain": [
       "[4, 8, 12, 20, 25, 30, 45]"
      ]
     },
     "execution_count": 222,
     "metadata": {},
     "output_type": "execute_result"
    }
   ],
   "source": [
    "sorted(num_list,reverse=False)"
   ]
  },
  {
   "cell_type": "code",
   "execution_count": 223,
   "metadata": {},
   "outputs": [
    {
     "data": {
      "text/plain": [
       "[45, 30, 25, 20, 12, 8, 4]"
      ]
     },
     "execution_count": 223,
     "metadata": {},
     "output_type": "execute_result"
    }
   ],
   "source": [
    "sorted(num_list,reverse=True)"
   ]
  },
  {
   "cell_type": "code",
   "execution_count": 224,
   "metadata": {},
   "outputs": [
    {
     "name": "stdout",
     "output_type": "stream",
     "text": [
      "Abdulaziz Mohammed Abdullah\n"
     ]
    }
   ],
   "source": [
    "print('Abdulaziz','Mohammed','Abdullah')"
   ]
  },
  {
   "cell_type": "code",
   "execution_count": 230,
   "metadata": {},
   "outputs": [
    {
     "name": "stdout",
     "output_type": "stream",
     "text": [
      "Abdulaziz|Mohammed|Abdullah\n"
     ]
    }
   ],
   "source": [
    "print('Abdulaziz','Mohammed','Abdullah',sep='|')"
   ]
  },
  {
   "cell_type": "code",
   "execution_count": 235,
   "metadata": {},
   "outputs": [
    {
     "name": "stdout",
     "output_type": "stream",
     "text": [
      "Abdulaziz|Mohammed|Abdullah*****"
     ]
    }
   ],
   "source": [
    "print('Abdulaziz','Mohammed','Abdullah',sep='|',end='*****')"
   ]
  },
  {
   "cell_type": "markdown",
   "metadata": {},
   "source": [
    "<a id='def_arg'></a>\n",
    "# Default Arguments"
   ]
  },
  {
   "cell_type": "code",
   "execution_count": 236,
   "metadata": {},
   "outputs": [],
   "source": [
    "def print_student_detail(name,university,\n",
    "                         math,database,network,programming,\n",
    "                        enrolled):\n",
    "    \n",
    "    total = math + database + network + programming\n",
    "    \n",
    "    print('Name:',name)\n",
    "    print('University:',university , 'Enrolled',enrolled)\n",
    "    print('Score:',total)"
   ]
  },
  {
   "cell_type": "code",
   "execution_count": 237,
   "metadata": {},
   "outputs": [
    {
     "name": "stdout",
     "output_type": "stream",
     "text": [
      "Name: Abdulaziz\n",
      "University: SEU Enrolled True\n",
      "Score: 360\n"
     ]
    }
   ],
   "source": [
    "print_student_detail('Abdulaziz','SEU',\n",
    "                    math=95,database=85,network=85,programming=95,\n",
    "                    enrolled=True)"
   ]
  },
  {
   "cell_type": "code",
   "execution_count": 238,
   "metadata": {},
   "outputs": [
    {
     "ename": "TypeError",
     "evalue": "print_student_detail() missing 1 required positional argument: 'enrolled'",
     "output_type": "error",
     "traceback": [
      "\u001b[1;31m---------------------------------------------------------------------------\u001b[0m",
      "\u001b[1;31mTypeError\u001b[0m                                 Traceback (most recent call last)",
      "\u001b[1;32m<ipython-input-238-d6c2bd1908a8>\u001b[0m in \u001b[0;36m<module>\u001b[1;34m\u001b[0m\n\u001b[0;32m      1\u001b[0m print_student_detail('Abdulaziz','SEU',\n\u001b[1;32m----> 2\u001b[1;33m                     math=95,database=85,network=85,programming=95,)\n\u001b[0m",
      "\u001b[1;31mTypeError\u001b[0m: print_student_detail() missing 1 required positional argument: 'enrolled'"
     ]
    }
   ],
   "source": [
    "print_student_detail('Abdulaziz','SEU',\n",
    "                    math=95,database=85,network=85,programming=95,)"
   ]
  },
  {
   "cell_type": "code",
   "execution_count": 239,
   "metadata": {},
   "outputs": [],
   "source": [
    "def print_student_details(name,university,\n",
    "                         math,database,network,programming,\n",
    "                        enrolled=False):\n",
    "    \n",
    "    total = math + database + network + programming\n",
    "    \n",
    "    print('Name:',name)\n",
    "    print('University:',university , 'Enrolled',enrolled)\n",
    "    print('Score:',total)"
   ]
  },
  {
   "cell_type": "code",
   "execution_count": 240,
   "metadata": {},
   "outputs": [
    {
     "name": "stdout",
     "output_type": "stream",
     "text": [
      "Name: Abdulaziz\n",
      "University: SEU Enrolled False\n",
      "Score: 360\n"
     ]
    }
   ],
   "source": [
    "print_student_details('Abdulaziz','SEU',\n",
    "                    math=95,database=85,network=85,programming=95,)"
   ]
  },
  {
   "cell_type": "code",
   "execution_count": 251,
   "metadata": {},
   "outputs": [],
   "source": [
    "# programming is by default 50. If you do not specify the score, by default it will be 50\n",
    "def print_student_details(name,university,\n",
    "                         math,database,network,programming=50,\n",
    "                        enrolled=False):\n",
    "    \n",
    "    total = math + database + network + programming\n",
    "    \n",
    "    print('Name:',name)\n",
    "    print('University:',university , 'Enrolled',enrolled)\n",
    "    print('Programming:',programming)\n",
    "    print('Score:',total)"
   ]
  },
  {
   "cell_type": "code",
   "execution_count": 252,
   "metadata": {},
   "outputs": [
    {
     "name": "stdout",
     "output_type": "stream",
     "text": [
      "Name: Abdulaziz\n",
      "University: SEU Enrolled False\n",
      "Programming: 95\n",
      "Score: 360\n"
     ]
    }
   ],
   "source": [
    "print_student_details('Abdulaziz','SEU',\n",
    "                    math=95,database=85,network=85,programming=95)"
   ]
  },
  {
   "cell_type": "code",
   "execution_count": 253,
   "metadata": {},
   "outputs": [
    {
     "name": "stdout",
     "output_type": "stream",
     "text": [
      "Name: Abdulaziz\n",
      "University: SEU Enrolled False\n",
      "Programming: 50\n",
      "Score: 315\n"
     ]
    }
   ],
   "source": [
    "print_student_details('Abdulaziz','SEU',\n",
    "                    math=95,database=85,network=85)"
   ]
  },
  {
   "cell_type": "code",
   "execution_count": 255,
   "metadata": {},
   "outputs": [
    {
     "ename": "TypeError",
     "evalue": "print_student_details() missing 1 required positional argument: 'network'",
     "output_type": "error",
     "traceback": [
      "\u001b[1;31m---------------------------------------------------------------------------\u001b[0m",
      "\u001b[1;31mTypeError\u001b[0m                                 Traceback (most recent call last)",
      "\u001b[1;32m<ipython-input-255-c64091716a1d>\u001b[0m in \u001b[0;36m<module>\u001b[1;34m\u001b[0m\n\u001b[0;32m      1\u001b[0m \u001b[1;31m# if there is no default value to an argument it will make an error\u001b[0m\u001b[1;33m\u001b[0m\u001b[1;33m\u001b[0m\u001b[1;33m\u001b[0m\u001b[0m\n\u001b[0;32m      2\u001b[0m print_student_details('Abdulaziz','SEU',\n\u001b[1;32m----> 3\u001b[1;33m                     math=95,database=85)\n\u001b[0m",
      "\u001b[1;31mTypeError\u001b[0m: print_student_details() missing 1 required positional argument: 'network'"
     ]
    }
   ],
   "source": [
    "# if there is no default value to an argument it will make an error\n",
    "print_student_details('Abdulaziz','SEU',\n",
    "                    math=95,database=85)"
   ]
  },
  {
   "cell_type": "code",
   "execution_count": 257,
   "metadata": {},
   "outputs": [
    {
     "ename": "SyntaxError",
     "evalue": "non-default argument follows default argument (<ipython-input-257-1aaec4a0de31>, line 2)",
     "output_type": "error",
     "traceback": [
      "\u001b[1;36m  File \u001b[1;32m\"<ipython-input-257-1aaec4a0de31>\"\u001b[1;36m, line \u001b[1;32m2\u001b[0m\n\u001b[1;33m    def print_student_details(name,university,\u001b[0m\n\u001b[1;37m                             ^\u001b[0m\n\u001b[1;31mSyntaxError\u001b[0m\u001b[1;31m:\u001b[0m non-default argument follows default argument\n"
     ]
    }
   ],
   "source": [
    "#you can not specify default argument then followed it non-default argument\n",
    "def print_student_details(name,university,\n",
    "                         math=50,database,network,programming=50,\n",
    "                        enrolled=False):\n",
    "    \n",
    "    total = math + database + network + programming\n",
    "    \n",
    "    print('Name:',name)\n",
    "    print('University:',university , 'Enrolled',enrolled)\n",
    "    print('Programming:',programming)\n",
    "    print('Score:',total)"
   ]
  },
  {
   "cell_type": "code",
   "execution_count": 258,
   "metadata": {},
   "outputs": [
    {
     "ename": "SyntaxError",
     "evalue": "non-default argument follows default argument (<ipython-input-258-4c896bfba47e>, line 2)",
     "output_type": "error",
     "traceback": [
      "\u001b[1;36m  File \u001b[1;32m\"<ipython-input-258-4c896bfba47e>\"\u001b[1;36m, line \u001b[1;32m2\u001b[0m\n\u001b[1;33m    def print_student_details(name,university='SEU',\u001b[0m\n\u001b[1;37m                             ^\u001b[0m\n\u001b[1;31mSyntaxError\u001b[0m\u001b[1;31m:\u001b[0m non-default argument follows default argument\n"
     ]
    }
   ],
   "source": [
    "# the same error in the above example\n",
    "def print_student_details(name,university='SEU',\n",
    "                         math,database,network,programming=50,\n",
    "                        enrolled=False):\n",
    "    \n",
    "    total = math + database + network + programming\n",
    "    \n",
    "    print('Name:',name)\n",
    "    print('University:',university , 'Enrolled',enrolled)\n",
    "    print('Programming:',programming)\n",
    "    print('Score:',total)"
   ]
  },
  {
   "cell_type": "code",
   "execution_count": 259,
   "metadata": {},
   "outputs": [],
   "source": [
    "def print_student_details(name='Abdulaziz',university='SEU',\n",
    "                         math=50,database=50,network=50,programming=50,\n",
    "                        enrolled=False):\n",
    "    \n",
    "    total = math + database + network + programming\n",
    "    \n",
    "    print('Name:',name)\n",
    "    print('University:',university , 'Enrolled',enrolled)\n",
    "    print('Math:',math)\n",
    "    print('Database:',database)\n",
    "    print('Network:',network)\n",
    "    print('Programming:',programming)\n",
    "    print('Score:',total)"
   ]
  },
  {
   "cell_type": "code",
   "execution_count": 261,
   "metadata": {},
   "outputs": [
    {
     "name": "stdout",
     "output_type": "stream",
     "text": [
      "Name: Abdulaziz\n",
      "University: SEU Enrolled False\n",
      "Math: 50\n",
      "Database: 50\n",
      "Network: 50\n",
      "Programming: 50\n",
      "Score: 200\n"
     ]
    }
   ],
   "source": [
    "# if all arguments have default values the function will work fine\n",
    "print_student_details()"
   ]
  },
  {
   "cell_type": "markdown",
   "metadata": {},
   "source": [
    "<a id='var_len_arg'></a>\n",
    "# Variable Length Arguments"
   ]
  },
  {
   "cell_type": "code",
   "execution_count": 1,
   "metadata": {},
   "outputs": [
    {
     "name": "stdout",
     "output_type": "stream",
     "text": [
      "\n"
     ]
    }
   ],
   "source": [
    "# empty argument print nothing\n",
    "print()"
   ]
  },
  {
   "cell_type": "code",
   "execution_count": 2,
   "metadata": {},
   "outputs": [
    {
     "name": "stdout",
     "output_type": "stream",
     "text": [
      "Abdulaziz\n"
     ]
    }
   ],
   "source": [
    "print('Abdulaziz')"
   ]
  },
  {
   "cell_type": "code",
   "execution_count": 3,
   "metadata": {},
   "outputs": [
    {
     "name": "stdout",
     "output_type": "stream",
     "text": [
      "Abdulaziz Mohammed\n"
     ]
    }
   ],
   "source": [
    "print('Abdulaziz','Mohammed')"
   ]
  },
  {
   "cell_type": "code",
   "execution_count": 4,
   "metadata": {},
   "outputs": [
    {
     "name": "stdout",
     "output_type": "stream",
     "text": [
      "Abdulaziz Mohammed Abdullah\n"
     ]
    }
   ],
   "source": [
    "print('Abdulaziz','Mohammed','Abdullah')"
   ]
  },
  {
   "cell_type": "code",
   "execution_count": 7,
   "metadata": {},
   "outputs": [
    {
     "name": "stdout",
     "output_type": "stream",
     "text": [
      "Abdulaziz Mohammed Abdullah Abdulrahman\n"
     ]
    }
   ],
   "source": [
    "# print function accepts variable length arguments\n",
    "print('Abdulaziz','Mohammed','Abdullah','Abdulrahman')"
   ]
  },
  {
   "cell_type": "code",
   "execution_count": 8,
   "metadata": {},
   "outputs": [],
   "source": [
    "def print_fn(string_1):\n",
    "    \n",
    "    print(string_1)"
   ]
  },
  {
   "cell_type": "code",
   "execution_count": 9,
   "metadata": {},
   "outputs": [
    {
     "ename": "TypeError",
     "evalue": "print_fn() missing 1 required positional argument: 'string_1'",
     "output_type": "error",
     "traceback": [
      "\u001b[1;31m---------------------------------------------------------------------------\u001b[0m",
      "\u001b[1;31mTypeError\u001b[0m                                 Traceback (most recent call last)",
      "\u001b[1;32m<ipython-input-9-a2814f842039>\u001b[0m in \u001b[0;36m<module>\u001b[1;34m\u001b[0m\n\u001b[1;32m----> 1\u001b[1;33m \u001b[0mprint_fn\u001b[0m\u001b[1;33m(\u001b[0m\u001b[1;33m)\u001b[0m\u001b[1;33m\u001b[0m\u001b[1;33m\u001b[0m\u001b[0m\n\u001b[0m",
      "\u001b[1;31mTypeError\u001b[0m: print_fn() missing 1 required positional argument: 'string_1'"
     ]
    }
   ],
   "source": [
    "print_fn()"
   ]
  },
  {
   "cell_type": "code",
   "execution_count": 12,
   "metadata": {},
   "outputs": [],
   "source": [
    "# with default argument the function will work if you do not input an argument\n",
    "def print_fn(string_1='\\n'):\n",
    "    \n",
    "    print(string_1)"
   ]
  },
  {
   "cell_type": "code",
   "execution_count": 13,
   "metadata": {},
   "outputs": [
    {
     "name": "stdout",
     "output_type": "stream",
     "text": [
      "\n",
      "\n"
     ]
    }
   ],
   "source": [
    "print_fn()"
   ]
  },
  {
   "cell_type": "code",
   "execution_count": 14,
   "metadata": {},
   "outputs": [
    {
     "ename": "TypeError",
     "evalue": "print_fn() takes from 0 to 1 positional arguments but 2 were given",
     "output_type": "error",
     "traceback": [
      "\u001b[1;31m---------------------------------------------------------------------------\u001b[0m",
      "\u001b[1;31mTypeError\u001b[0m                                 Traceback (most recent call last)",
      "\u001b[1;32m<ipython-input-14-81d06a5a1b54>\u001b[0m in \u001b[0;36m<module>\u001b[1;34m\u001b[0m\n\u001b[1;32m----> 1\u001b[1;33m \u001b[0mprint_fn\u001b[0m\u001b[1;33m(\u001b[0m\u001b[1;34m'One'\u001b[0m\u001b[1;33m,\u001b[0m\u001b[1;34m'Two'\u001b[0m\u001b[1;33m)\u001b[0m\u001b[1;33m\u001b[0m\u001b[1;33m\u001b[0m\u001b[0m\n\u001b[0m",
      "\u001b[1;31mTypeError\u001b[0m: print_fn() takes from 0 to 1 positional arguments but 2 were given"
     ]
    }
   ],
   "source": [
    "# if you input more than the specified argument in the function you will get an error\n",
    "print_fn('One','Two')"
   ]
  },
  {
   "cell_type": "code",
   "execution_count": 15,
   "metadata": {},
   "outputs": [],
   "source": [
    "def print_fn(string_1='\\n',string_2=''):\n",
    "    \n",
    "    print(string_1,string_2)"
   ]
  },
  {
   "cell_type": "code",
   "execution_count": 16,
   "metadata": {},
   "outputs": [
    {
     "name": "stdout",
     "output_type": "stream",
     "text": [
      "One \n"
     ]
    }
   ],
   "source": [
    "print_fn('One')"
   ]
  },
  {
   "cell_type": "code",
   "execution_count": 17,
   "metadata": {},
   "outputs": [
    {
     "name": "stdout",
     "output_type": "stream",
     "text": [
      "One two\n"
     ]
    }
   ],
   "source": [
    "print_fn('One','two')"
   ]
  },
  {
   "cell_type": "code",
   "execution_count": 19,
   "metadata": {},
   "outputs": [
    {
     "ename": "TypeError",
     "evalue": "print_fn() takes from 0 to 2 positional arguments but 3 were given",
     "output_type": "error",
     "traceback": [
      "\u001b[1;31m---------------------------------------------------------------------------\u001b[0m",
      "\u001b[1;31mTypeError\u001b[0m                                 Traceback (most recent call last)",
      "\u001b[1;32m<ipython-input-19-e7d10162caa1>\u001b[0m in \u001b[0;36m<module>\u001b[1;34m\u001b[0m\n\u001b[0;32m      1\u001b[0m \u001b[1;31m# trying input three arguments and the function only specify two, this will not work\u001b[0m\u001b[1;33m\u001b[0m\u001b[1;33m\u001b[0m\u001b[1;33m\u001b[0m\u001b[0m\n\u001b[1;32m----> 2\u001b[1;33m \u001b[0mprint_fn\u001b[0m\u001b[1;33m(\u001b[0m\u001b[1;34m'One'\u001b[0m\u001b[1;33m,\u001b[0m\u001b[1;34m'two'\u001b[0m\u001b[1;33m,\u001b[0m\u001b[1;34m'Three'\u001b[0m\u001b[1;33m)\u001b[0m\u001b[1;33m\u001b[0m\u001b[1;33m\u001b[0m\u001b[0m\n\u001b[0m",
      "\u001b[1;31mTypeError\u001b[0m: print_fn() takes from 0 to 2 positional arguments but 3 were given"
     ]
    }
   ],
   "source": [
    "# trying input three arguments and the function only specify two, this will not work \n",
    "print_fn('One','two','Three')"
   ]
  },
  {
   "cell_type": "code",
   "execution_count": 21,
   "metadata": {},
   "outputs": [],
   "source": [
    "# * before argument name indicate that the function can be invoked with any number of arguments\n",
    "# *args function receives the variable numbers of arguments as a tuple\n",
    "def print_fn(*args):\n",
    "    \n",
    "    args_type = type(args)\n",
    "    \n",
    "    print(args_type)\n",
    "    print(args)"
   ]
  },
  {
   "cell_type": "code",
   "execution_count": 22,
   "metadata": {},
   "outputs": [
    {
     "name": "stdout",
     "output_type": "stream",
     "text": [
      "<class 'tuple'>\n",
      "()\n"
     ]
    }
   ],
   "source": [
    "print_fn()"
   ]
  },
  {
   "cell_type": "code",
   "execution_count": 23,
   "metadata": {},
   "outputs": [
    {
     "name": "stdout",
     "output_type": "stream",
     "text": [
      "<class 'tuple'>\n",
      "('One',)\n"
     ]
    }
   ],
   "source": [
    "print_fn('One')"
   ]
  },
  {
   "cell_type": "code",
   "execution_count": 24,
   "metadata": {},
   "outputs": [
    {
     "name": "stdout",
     "output_type": "stream",
     "text": [
      "<class 'tuple'>\n",
      "('One', 'Two')\n"
     ]
    }
   ],
   "source": [
    "print_fn('One','Two')"
   ]
  },
  {
   "cell_type": "code",
   "execution_count": 26,
   "metadata": {},
   "outputs": [
    {
     "name": "stdout",
     "output_type": "stream",
     "text": [
      "<class 'tuple'>\n",
      "(['Juventus', 'Milan', 'Napoli', 'Roma'],)\n"
     ]
    }
   ],
   "source": [
    "# python is consider entire list as a single element \n",
    "teams_list = ['Juventus','Milan','Napoli','Roma']\n",
    "\n",
    "print_fn(teams_list)"
   ]
  },
  {
   "cell_type": "code",
   "execution_count": 27,
   "metadata": {},
   "outputs": [
    {
     "name": "stdout",
     "output_type": "stream",
     "text": [
      "<class 'tuple'>\n",
      "('Juventus', 'Milan', 'Napoli', 'Roma')\n"
     ]
    }
   ],
   "source": [
    "# what if you want unpack elements?\n",
    "# use * before the name of the list\n",
    "print_fn(*teams_list)"
   ]
  },
  {
   "cell_type": "code",
   "execution_count": 29,
   "metadata": {},
   "outputs": [],
   "source": [
    "# two requires arguments and one variable length argument \n",
    "def students_in_college(college, city, *students):\n",
    "    \n",
    "    print('College: ',college)\n",
    "    print('City: ',city)\n",
    "    print('Students: ',students)"
   ]
  },
  {
   "cell_type": "code",
   "execution_count": 34,
   "metadata": {},
   "outputs": [
    {
     "ename": "TypeError",
     "evalue": "students_in_college() missing 2 required positional arguments: 'college' and 'city'",
     "output_type": "error",
     "traceback": [
      "\u001b[1;31m---------------------------------------------------------------------------\u001b[0m",
      "\u001b[1;31mTypeError\u001b[0m                                 Traceback (most recent call last)",
      "\u001b[1;32m<ipython-input-34-d4ab75a99cee>\u001b[0m in \u001b[0;36m<module>\u001b[1;34m\u001b[0m\n\u001b[0;32m      1\u001b[0m \u001b[1;31m# two arguments must be specified college and city.\u001b[0m\u001b[1;33m\u001b[0m\u001b[1;33m\u001b[0m\u001b[1;33m\u001b[0m\u001b[0m\n\u001b[1;32m----> 2\u001b[1;33m \u001b[0mstudents_in_college\u001b[0m\u001b[1;33m(\u001b[0m\u001b[1;33m)\u001b[0m\u001b[1;33m\u001b[0m\u001b[1;33m\u001b[0m\u001b[0m\n\u001b[0m",
      "\u001b[1;31mTypeError\u001b[0m: students_in_college() missing 2 required positional arguments: 'college' and 'city'"
     ]
    }
   ],
   "source": [
    "# two arguments must be specified college and city. \n",
    "students_in_college()"
   ]
  },
  {
   "cell_type": "code",
   "execution_count": 35,
   "metadata": {},
   "outputs": [
    {
     "name": "stdout",
     "output_type": "stream",
     "text": [
      "College:  Computer and Informatic\n",
      "City:  Riyadh\n",
      "Students:  ()\n"
     ]
    }
   ],
   "source": [
    "# students can be empty or more\n",
    "students_in_college('Computer and Informatic','Riyadh')"
   ]
  },
  {
   "cell_type": "code",
   "execution_count": 36,
   "metadata": {},
   "outputs": [
    {
     "name": "stdout",
     "output_type": "stream",
     "text": [
      "College:  Computer and Informatic\n",
      "City:  Riyadh\n",
      "Students:  ('Abdulaziz',)\n"
     ]
    }
   ],
   "source": [
    "students_in_college('Computer and Informatic','Riyadh','Abdulaziz')"
   ]
  },
  {
   "cell_type": "code",
   "execution_count": 37,
   "metadata": {},
   "outputs": [
    {
     "name": "stdout",
     "output_type": "stream",
     "text": [
      "College:  Computer and Informatic\n",
      "City:  Riyadh\n",
      "Students:  ('Abdulaziz', 'Mohemmed')\n"
     ]
    }
   ],
   "source": [
    "students_in_college('Computer and Informatic','Riyadh','Abdulaziz','Mohemmed')"
   ]
  },
  {
   "cell_type": "code",
   "execution_count": 39,
   "metadata": {},
   "outputs": [
    {
     "ename": "SyntaxError",
     "evalue": "positional argument follows keyword argument (<ipython-input-39-52f753f89ea5>, line 2)",
     "output_type": "error",
     "traceback": [
      "\u001b[1;36m  File \u001b[1;32m\"<ipython-input-39-52f753f89ea5>\"\u001b[1;36m, line \u001b[1;32m2\u001b[0m\n\u001b[1;33m    students_in_college(college='Computer and Informatic',city='Riyadh','Abdulaziz','Mohemmed')\u001b[0m\n\u001b[1;37m                                                                       ^\u001b[0m\n\u001b[1;31mSyntaxError\u001b[0m\u001b[1;31m:\u001b[0m positional argument follows keyword argument\n"
     ]
    }
   ],
   "source": [
    "# start with keyword argument and follows it with positional argument make an error\n",
    "students_in_college(college='Computer and Informatic',city='Riyadh','Abdulaziz','Mohemmed')"
   ]
  },
  {
   "cell_type": "code",
   "execution_count": 40,
   "metadata": {},
   "outputs": [],
   "source": [
    "def students_in_college(*students, city, college):\n",
    "    \n",
    "    print('College: ',college)\n",
    "    print('City: ',city)\n",
    "    print('Students: ',students)"
   ]
  },
  {
   "cell_type": "code",
   "execution_count": 42,
   "metadata": {},
   "outputs": [
    {
     "ename": "TypeError",
     "evalue": "students_in_college() missing 2 required keyword-only arguments: 'city' and 'college'",
     "output_type": "error",
     "traceback": [
      "\u001b[1;31m---------------------------------------------------------------------------\u001b[0m",
      "\u001b[1;31mTypeError\u001b[0m                                 Traceback (most recent call last)",
      "\u001b[1;32m<ipython-input-42-b882f6260c18>\u001b[0m in \u001b[0;36m<module>\u001b[1;34m\u001b[0m\n\u001b[0;32m      1\u001b[0m \u001b[1;31m# python thinks these are students names and waits for keyword arguments college and city\u001b[0m\u001b[1;33m\u001b[0m\u001b[1;33m\u001b[0m\u001b[1;33m\u001b[0m\u001b[0m\n\u001b[1;32m----> 2\u001b[1;33m \u001b[0mstudents_in_college\u001b[0m\u001b[1;33m(\u001b[0m\u001b[1;34m'Computer and Informatic'\u001b[0m\u001b[1;33m,\u001b[0m\u001b[1;34m'Riyadh'\u001b[0m\u001b[1;33m,\u001b[0m\u001b[1;34m'Abdulaziz'\u001b[0m\u001b[1;33m)\u001b[0m\u001b[1;33m\u001b[0m\u001b[1;33m\u001b[0m\u001b[0m\n\u001b[0m",
      "\u001b[1;31mTypeError\u001b[0m: students_in_college() missing 2 required keyword-only arguments: 'city' and 'college'"
     ]
    }
   ],
   "source": [
    "# python thinks these are students names and waits for keyword arguments college and city\n",
    "students_in_college('Computer and Informatic','Riyadh','Abdulaziz')"
   ]
  },
  {
   "cell_type": "code",
   "execution_count": 48,
   "metadata": {},
   "outputs": [
    {
     "name": "stdout",
     "output_type": "stream",
     "text": [
      "College:  Computer and Informatic\n",
      "City:  Riyadh\n",
      "Students:  ('Abdulaziz',)\n"
     ]
    }
   ],
   "source": [
    "# always start with positional argument follows keyword argument\n",
    "students_in_college('Abdulaziz',city='Riyadh',college='Computer and Informatic')"
   ]
  },
  {
   "cell_type": "code",
   "execution_count": 49,
   "metadata": {},
   "outputs": [
    {
     "name": "stdout",
     "output_type": "stream",
     "text": [
      "College:  Computer and Informatic\n",
      "City:  Riyadh\n",
      "Students:  ('Abdulaziz', 'Mohammed')\n"
     ]
    }
   ],
   "source": [
    "students_in_college('Abdulaziz','Mohammed',city='Riyadh',college='Computer and Informatic')"
   ]
  },
  {
   "cell_type": "code",
   "execution_count": 50,
   "metadata": {},
   "outputs": [],
   "source": [
    "# ** before argument name this pack to variable length arguments into a dictionary not a tuple\n",
    "\n",
    "def student_details(**kwargs):\n",
    "    \n",
    "    print(type(kwargs))\n",
    "    print(kwargs)"
   ]
  },
  {
   "cell_type": "code",
   "execution_count": 52,
   "metadata": {},
   "outputs": [
    {
     "name": "stdout",
     "output_type": "stream",
     "text": [
      "<class 'dict'>\n",
      "{}\n"
     ]
    }
   ],
   "source": [
    "student_details()"
   ]
  },
  {
   "cell_type": "code",
   "execution_count": 53,
   "metadata": {},
   "outputs": [
    {
     "name": "stdout",
     "output_type": "stream",
     "text": [
      "<class 'dict'>\n",
      "{'name': 'Abdulaziz'}\n"
     ]
    }
   ],
   "source": [
    "student_details(name='Abdulaziz')"
   ]
  },
  {
   "cell_type": "code",
   "execution_count": 54,
   "metadata": {},
   "outputs": [
    {
     "name": "stdout",
     "output_type": "stream",
     "text": [
      "<class 'dict'>\n",
      "{'name': 'Abdulaziz', 'age': 27}\n"
     ]
    }
   ],
   "source": [
    "student_details(name='Abdulaziz', age=27)"
   ]
  },
  {
   "cell_type": "code",
   "execution_count": 55,
   "metadata": {},
   "outputs": [
    {
     "name": "stdout",
     "output_type": "stream",
     "text": [
      "<class 'dict'>\n",
      "{'name': 'Abdulaziz', 'age': 27, 'college': 'Computer and Informatic'}\n"
     ]
    }
   ],
   "source": [
    "student_details(name='Abdulaziz', age=27, college='Computer and Informatic')"
   ]
  },
  {
   "cell_type": "code",
   "execution_count": 59,
   "metadata": {},
   "outputs": [],
   "source": [
    "# because it is a dictionary within a function, you can iterate over the items in details argument using a for loop\n",
    "def student_details(**details):\n",
    "    \n",
    "    for key, value in details.items():\n",
    "        print(key, value)"
   ]
  },
  {
   "cell_type": "code",
   "execution_count": 58,
   "metadata": {},
   "outputs": [
    {
     "name": "stdout",
     "output_type": "stream",
     "text": [
      "name Abdulaziz\n",
      "age 27\n",
      "college Computer and Informatic\n"
     ]
    }
   ],
   "source": [
    "student_details(name='Abdulaziz', age=27, college='Computer and Informatic')"
   ]
  },
  {
   "cell_type": "code",
   "execution_count": 62,
   "metadata": {},
   "outputs": [],
   "source": [
    "details_dictionary = {'name':'Mohammed','age': 22,'college':'Computer and Informatic'}"
   ]
  },
  {
   "cell_type": "code",
   "execution_count": 63,
   "metadata": {},
   "outputs": [
    {
     "ename": "TypeError",
     "evalue": "student_details() takes 0 positional arguments but 1 was given",
     "output_type": "error",
     "traceback": [
      "\u001b[1;31m---------------------------------------------------------------------------\u001b[0m",
      "\u001b[1;31mTypeError\u001b[0m                                 Traceback (most recent call last)",
      "\u001b[1;32m<ipython-input-63-017c6d0eb84f>\u001b[0m in \u001b[0;36m<module>\u001b[1;34m\u001b[0m\n\u001b[1;32m----> 1\u001b[1;33m \u001b[0mstudent_details\u001b[0m\u001b[1;33m(\u001b[0m\u001b[0mdetails_dictionary\u001b[0m\u001b[1;33m)\u001b[0m\u001b[1;33m\u001b[0m\u001b[1;33m\u001b[0m\u001b[0m\n\u001b[0m",
      "\u001b[1;31mTypeError\u001b[0m: student_details() takes 0 positional arguments but 1 was given"
     ]
    }
   ],
   "source": [
    "# this will not work becouse it accpecting keyword argument \n",
    "student_details(details_dictionary)"
   ]
  },
  {
   "cell_type": "code",
   "execution_count": 66,
   "metadata": {},
   "outputs": [
    {
     "name": "stdout",
     "output_type": "stream",
     "text": [
      "name Mohammed\n",
      "age 22\n",
      "college Computer and Informatic\n"
     ]
    }
   ],
   "source": [
    "# but if you use ** before the dictionary. this unpack the dictionary and it works\n",
    "student_details(**details_dictionary)"
   ]
  },
  {
   "cell_type": "code",
   "execution_count": 78,
   "metadata": {},
   "outputs": [],
   "source": [
    "# function checks if a particular key is present in the input dictionary. if it exists, print in the screen\n",
    "def student_details(**details):\n",
    "    \n",
    "    if 'name' in details:\n",
    "        print('Name: ',details['name'])\n",
    "    \n",
    "    if 'age' in details:\n",
    "        print('Age: ', details['age'])\n",
    "        \n",
    "    if 'college' in details:\n",
    "        print('College: ', details['college'])\n",
    "    \n",
    "    #print(details)"
   ]
  },
  {
   "cell_type": "code",
   "execution_count": 79,
   "metadata": {},
   "outputs": [
    {
     "name": "stdout",
     "output_type": "stream",
     "text": [
      "Name:  Abdulaziz\n"
     ]
    }
   ],
   "source": [
    "student_details(name='Abdulaziz')"
   ]
  },
  {
   "cell_type": "code",
   "execution_count": 80,
   "metadata": {},
   "outputs": [
    {
     "name": "stdout",
     "output_type": "stream",
     "text": [
      "Name:  Abdulaziz\n",
      "Age:  27\n",
      "College:  Computer and Informatic\n"
     ]
    }
   ],
   "source": [
    "student_details(name='Abdulaziz',college='Computer and Informatic',age=27)"
   ]
  },
  {
   "cell_type": "code",
   "execution_count": 82,
   "metadata": {},
   "outputs": [
    {
     "name": "stdout",
     "output_type": "stream",
     "text": [
      "Name:  Abdulaziz\n",
      "Age:  27\n",
      "College:  Computer and Informatic\n"
     ]
    }
   ],
   "source": [
    "# level will not be printed but it saved in the dictionary. \n",
    "student_details(name='Abdulaziz',college='Computer and Informatic',age=27, level=8)"
   ]
  },
  {
   "cell_type": "code",
   "execution_count": 86,
   "metadata": {},
   "outputs": [],
   "source": [
    "# function print student names in tuple and college details in a dictionary \n",
    "def students_in_college(*student_name,**college_details):\n",
    "    print('Students--')\n",
    "    for i in student_name:\n",
    "        print(i)\n",
    "    \n",
    "    print()\n",
    "    \n",
    "    print('College Details')\n",
    "    for key, value in college_details.items():\n",
    "        print(key, value)"
   ]
  },
  {
   "cell_type": "code",
   "execution_count": 87,
   "metadata": {},
   "outputs": [
    {
     "name": "stdout",
     "output_type": "stream",
     "text": [
      "Students--\n",
      "Abdulaziz\n",
      "Mohammed\n",
      "\n",
      "College Details\n",
      "name Saudi Electronic University\n",
      "city Riyadh\n"
     ]
    }
   ],
   "source": [
    "students_in_college('Abdulaziz','Mohammed', name='Saudi Electronic University', city='Riyadh')"
   ]
  },
  {
   "cell_type": "markdown",
   "metadata": {},
   "source": [
    "Reference: Instructor at skillsoft is Janani Ravi"
   ]
  }
 ],
 "metadata": {
  "kernelspec": {
   "display_name": "Python 3",
   "language": "python",
   "name": "python3"
  },
  "language_info": {
   "codemirror_mode": {
    "name": "ipython",
    "version": 3
   },
   "file_extension": ".py",
   "mimetype": "text/x-python",
   "name": "python",
   "nbconvert_exporter": "python",
   "pygments_lexer": "ipython3",
   "version": "3.7.7"
  }
 },
 "nbformat": 4,
 "nbformat_minor": 4
}
